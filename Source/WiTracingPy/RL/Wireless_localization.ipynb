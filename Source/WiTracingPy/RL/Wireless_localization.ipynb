{
 "cells": [
  {
   "cell_type": "code",
   "execution_count": 1,
   "metadata": {
    "collapsed": true
   },
   "outputs": [],
   "source": [
    "import cv2\n",
    "import numpy as np\n",
    "import matplotlib.pyplot as plt\n",
    "\n",
    "img = cv2.imread('map/map_wireframe.png')"
   ]
  },
  {
   "cell_type": "code",
   "execution_count": 7,
   "outputs": [
    {
     "data": {
      "text/plain": "array([[ 5.97761956e-01,  3.80908051e-03,  6.51975427e+03],\n       [-1.10863227e-03,  6.07125562e-01,  3.64844396e+03],\n       [-1.12178794e-06,  9.23339614e-08,  1.00000000e+00]])"
     },
     "execution_count": 7,
     "metadata": {},
     "output_type": "execute_result"
    }
   ],
   "source": [
    "# define the source and destination points\n",
    "src_pts = np.array([[3330, -5300], [ 480, 1450], [-3370, -5300], [2680, 7400], [-2230, 7450]], dtype=np.float32)\n",
    "dst_pts = np.array([[8530, 430], [6800, 4550], [4480, 430], [8180, 8150], [5200, 8150]], dtype=np.float32)\n",
    "\n",
    "# compute the homography matrix\n",
    "H, _ = cv2.findHomography(src_pts, dst_pts)\n",
    "H"
   ],
   "metadata": {
    "collapsed": false
   }
  },
  {
   "cell_type": "code",
   "execution_count": 5,
   "outputs": [],
   "source": [
    "import pandas as pd\n",
    "df = pd.read_csv('raw.csv')"
   ],
   "metadata": {
    "collapsed": false
   }
  },
  {
   "cell_type": "code",
   "execution_count": 6,
   "outputs": [
    {
     "data": {
      "text/plain": "tx           TX_F1_Fountain\nx                475.289673\ny               1482.590576\nz                102.184547\nrssi                    -58\ntimestamp     1679538902693\nName: 0, dtype: object"
     },
     "execution_count": 6,
     "metadata": {},
     "output_type": "execute_result"
    }
   ],
   "source": [
    "df.loc[0]"
   ],
   "metadata": {
    "collapsed": false
   }
  },
  {
   "cell_type": "code",
   "execution_count": 7,
   "outputs": [
    {
     "data": {
      "text/plain": "array([6812.2114, 4549.839 ], dtype=float32)"
     },
     "execution_count": 7,
     "metadata": {},
     "output_type": "execute_result"
    }
   ],
   "source": [
    "inx = df.loc[0].x\n",
    "iny = df.loc[0].y\n",
    "\n",
    "point = np.array([[inx, iny]], dtype=np.float32)\n",
    "# apply the homography projection to the point\n",
    "projected_point = cv2.perspectiveTransform(point.reshape(1, -1, 2), H)\n",
    "point = projected_point[0][0]\n",
    "point"
   ],
   "metadata": {
    "collapsed": false
   }
  },
  {
   "cell_type": "code",
   "execution_count": 4,
   "outputs": [
    {
     "ename": "NameError",
     "evalue": "name 'df' is not defined",
     "output_type": "error",
     "traceback": [
      "\u001B[1;31m---------------------------------------------------------------------------\u001B[0m",
      "\u001B[1;31mNameError\u001B[0m                                 Traceback (most recent call last)",
      "Cell \u001B[1;32mIn[4], line 4\u001B[0m\n\u001B[0;32m      1\u001B[0m \u001B[38;5;28;01mdef\u001B[39;00m \u001B[38;5;21mab\u001B[39m(df):\n\u001B[0;32m      2\u001B[0m     \u001B[38;5;28;01mreturn\u001B[39;00m df\u001B[38;5;241m.\u001B[39mvalues\n\u001B[1;32m----> 4\u001B[0m df \u001B[38;5;241m=\u001B[39m \u001B[43mdf\u001B[49m\u001B[38;5;241m.\u001B[39mgroupby([\u001B[38;5;124m'\u001B[39m\u001B[38;5;124mtimestamp\u001B[39m\u001B[38;5;124m'\u001B[39m, \u001B[38;5;124m'\u001B[39m\u001B[38;5;124mx\u001B[39m\u001B[38;5;124m'\u001B[39m, \u001B[38;5;124m'\u001B[39m\u001B[38;5;124my\u001B[39m\u001B[38;5;124m'\u001B[39m, \u001B[38;5;124m'\u001B[39m\u001B[38;5;124mz\u001B[39m\u001B[38;5;124m'\u001B[39m])[\u001B[38;5;124m'\u001B[39m\u001B[38;5;124mrssi\u001B[39m\u001B[38;5;124m'\u001B[39m]\u001B[38;5;241m.\u001B[39mapply(ab)\n",
      "\u001B[1;31mNameError\u001B[0m: name 'df' is not defined"
     ]
    }
   ],
   "source": [
    "def ab(df):\n",
    "    return df.values\n",
    "\n",
    "df = df.groupby(['timestamp', 'x', 'y', 'z'])['rssi'].apply(ab)"
   ],
   "metadata": {
    "collapsed": false
   }
  },
  {
   "cell_type": "code",
   "execution_count": 10,
   "outputs": [
    {
     "data": {
      "text/plain": "          timestamp           x            y           z  \\\n0     1679538902693  475.289673  1482.590576  102.184547   \n1     1679538902759  476.011902  1483.588623  110.404449   \n2     1679538902794  486.526764  1481.530273  110.504608   \n3     1679538902828  496.901855  1474.441528  110.863770   \n4     1679538902860  506.555115  1461.993652  111.978073   \n...             ...         ...          ...         ...   \n6292  1679539160779 -693.878540  7103.696777  114.846436   \n6293  1679539160804 -693.678711  7106.986816  114.070290   \n6294  1679539160831 -693.429626  7110.733398  113.161743   \n6295  1679539160858 -693.255554  7114.434570  112.097168   \n6296  1679539160884 -693.239624  7117.571289  111.003342   \n\n                                     rssi  \n0          [-58, -70, -67, -66, -62, -58]  \n1          [-57, -72, -67, -67, -63, -58]  \n2          [-57, -69, -65, -65, -64, -59]  \n3          [-57, -71, -66, -67, -63, -60]  \n4          [-57, -70, -67, -66, -62, -60]  \n...                                   ...  \n6292  [-74, -73, -61, -65, -55, -58, -64]  \n6293  [-73, -74, -62, -65, -54, -58, -64]  \n6294  [-73, -75, -61, -65, -54, -58, -64]  \n6295  [-73, -74, -62, -65, -54, -58, -64]  \n6296  [-74, -75, -61, -66, -54, -58, -64]  \n\n[6297 rows x 5 columns]",
      "text/html": "<div>\n<style scoped>\n    .dataframe tbody tr th:only-of-type {\n        vertical-align: middle;\n    }\n\n    .dataframe tbody tr th {\n        vertical-align: top;\n    }\n\n    .dataframe thead th {\n        text-align: right;\n    }\n</style>\n<table border=\"1\" class=\"dataframe\">\n  <thead>\n    <tr style=\"text-align: right;\">\n      <th></th>\n      <th>timestamp</th>\n      <th>x</th>\n      <th>y</th>\n      <th>z</th>\n      <th>rssi</th>\n    </tr>\n  </thead>\n  <tbody>\n    <tr>\n      <th>0</th>\n      <td>1679538902693</td>\n      <td>475.289673</td>\n      <td>1482.590576</td>\n      <td>102.184547</td>\n      <td>[-58, -70, -67, -66, -62, -58]</td>\n    </tr>\n    <tr>\n      <th>1</th>\n      <td>1679538902759</td>\n      <td>476.011902</td>\n      <td>1483.588623</td>\n      <td>110.404449</td>\n      <td>[-57, -72, -67, -67, -63, -58]</td>\n    </tr>\n    <tr>\n      <th>2</th>\n      <td>1679538902794</td>\n      <td>486.526764</td>\n      <td>1481.530273</td>\n      <td>110.504608</td>\n      <td>[-57, -69, -65, -65, -64, -59]</td>\n    </tr>\n    <tr>\n      <th>3</th>\n      <td>1679538902828</td>\n      <td>496.901855</td>\n      <td>1474.441528</td>\n      <td>110.863770</td>\n      <td>[-57, -71, -66, -67, -63, -60]</td>\n    </tr>\n    <tr>\n      <th>4</th>\n      <td>1679538902860</td>\n      <td>506.555115</td>\n      <td>1461.993652</td>\n      <td>111.978073</td>\n      <td>[-57, -70, -67, -66, -62, -60]</td>\n    </tr>\n    <tr>\n      <th>...</th>\n      <td>...</td>\n      <td>...</td>\n      <td>...</td>\n      <td>...</td>\n      <td>...</td>\n    </tr>\n    <tr>\n      <th>6292</th>\n      <td>1679539160779</td>\n      <td>-693.878540</td>\n      <td>7103.696777</td>\n      <td>114.846436</td>\n      <td>[-74, -73, -61, -65, -55, -58, -64]</td>\n    </tr>\n    <tr>\n      <th>6293</th>\n      <td>1679539160804</td>\n      <td>-693.678711</td>\n      <td>7106.986816</td>\n      <td>114.070290</td>\n      <td>[-73, -74, -62, -65, -54, -58, -64]</td>\n    </tr>\n    <tr>\n      <th>6294</th>\n      <td>1679539160831</td>\n      <td>-693.429626</td>\n      <td>7110.733398</td>\n      <td>113.161743</td>\n      <td>[-73, -75, -61, -65, -54, -58, -64]</td>\n    </tr>\n    <tr>\n      <th>6295</th>\n      <td>1679539160858</td>\n      <td>-693.255554</td>\n      <td>7114.434570</td>\n      <td>112.097168</td>\n      <td>[-73, -74, -62, -65, -54, -58, -64]</td>\n    </tr>\n    <tr>\n      <th>6296</th>\n      <td>1679539160884</td>\n      <td>-693.239624</td>\n      <td>7117.571289</td>\n      <td>111.003342</td>\n      <td>[-74, -75, -61, -66, -54, -58, -64]</td>\n    </tr>\n  </tbody>\n</table>\n<p>6297 rows × 5 columns</p>\n</div>"
     },
     "execution_count": 10,
     "metadata": {},
     "output_type": "execute_result"
    }
   ],
   "source": [
    "df = df.to_frame().reset_index()\n",
    "df"
   ],
   "metadata": {
    "collapsed": false
   }
  },
  {
   "cell_type": "code",
   "execution_count": 8,
   "outputs": [],
   "source": [
    "img = cv2.imread('map/map_wireframe.png')\n",
    "for index, row in df.iterrows():\n",
    "    inx = int(row['x'])\n",
    "    iny = int(row['y'])\n",
    "    point = np.array([[inx, iny]], dtype=np.float32)\n",
    "    projected_point = cv2.perspectiveTransform(point.reshape(1, -1, 2), H)\n",
    "    point = projected_point[0][0]\n",
    "    # Window name in which image is displayed\n",
    "    window_name = 'Image'\n",
    "    # Center coordinates\n",
    "    center_coordinates = (int(point[0]), int(point[1]))\n",
    "    # Radius of circle\n",
    "    radius = 20\n",
    "    # Blue color in BGR\n",
    "    color = (255,215,0)\n",
    "    # Line thickness of 2 px\n",
    "    thickness = 20\n",
    "\n",
    "    cv2.circle(img, center_coordinates, radius, color, thickness)\n",
    "img = cv2.resize(img, (1920, 1280))\n",
    "cv2.imshow(window_name, img)\n",
    "cv2.waitKey(0)\n",
    "cv2.destroyAllWindows()"
   ],
   "metadata": {
    "collapsed": false
   }
  },
  {
   "cell_type": "code",
   "execution_count": null,
   "outputs": [],
   "source": [],
   "metadata": {
    "collapsed": false
   }
  }
 ],
 "metadata": {
  "kernelspec": {
   "display_name": "Python 3",
   "language": "python",
   "name": "python3"
  },
  "language_info": {
   "codemirror_mode": {
    "name": "ipython",
    "version": 2
   },
   "file_extension": ".py",
   "mimetype": "text/x-python",
   "name": "python",
   "nbconvert_exporter": "python",
   "pygments_lexer": "ipython2",
   "version": "2.7.6"
  }
 },
 "nbformat": 4,
 "nbformat_minor": 0
}
