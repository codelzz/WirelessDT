{
 "cells": [
  {
   "cell_type": "markdown",
   "metadata": {},
   "source": [
    "Problem formulation:\n",
    "\n",
    "Formulate the problem as an MDP (Markov Decision Process). The state space can represent the current estimated positions, orientations, and velocities of all pedestrians, as well as the camera detections. Actions could correspond to different ways of matching and fusing the IMU and visual data for each pedestrian. The reward function should encourage accurate matching and localization.\n",
    "\n",
    "When dealing with multiple people, each with their own IMU and visual detections, using RL for sensor fusion and localization can be even more beneficial. In this scenario, the reinforcement learning strategy can help in the following ways:\n",
    "\n",
    "Multi-agent coordination: With multiple IMUs and visual detections, the RL strategy can be extended to a multi-agent setting. In this case, each agent (person) can have its own RL agent to fuse their respective IMU and visual data. Additionally, these RL agents can cooperate with each other to improve localization accuracy, for example by sharing information about their relative positions or collaborating to reduce uncertainties.\n",
    "\n",
    "Handling occlusions and data association: In situations where people may be occluding each other in the camera's field of view, or where visual detections might be ambiguous, RL can help to resolve these issues by learning the best strategy to associate the correct visual detection with the corresponding IMU data. This can be particularly important when dealing with a crowded environment.\n",
    "\n",
    "Adaptive sensor fusion: In a multi-person setting, the quality of sensor data can vary among individuals due to differences in sensor placement, calibration, or other factors. An RL-based approach can adapt the sensor fusion strategy for each person individually, optimizing the performance for each user and ensuring better localization accuracy overall.\n",
    "\n",
    "Anomaly detection and outlier handling: The RL agent can learn to detect and handle anomalies in the sensor data or visual detections, such as faulty IMU readings or false-positive detections. This ability to recognize and deal with such issues can lead to a more robust and reliable localization system for multiple people.\n",
    "\n",
    "Dynamic group formation: The RL agents can learn to form dynamic groups based on their proximity, relevance, or other factors, and adapt their sensor fusion strategies accordingly. This can help to improve localization accuracy, especially in complex environments where people are moving and interacting with each other."
   ]
  },
  {
   "cell_type": "code",
   "execution_count": 1,
   "metadata": {
    "collapsed": true
   },
   "outputs": [],
   "source": [
    "import os\n",
    "\n",
    "import torch\n",
    "\n",
    "os.chdir('..')\n",
    "import pandas as pd\n",
    "wifi_df = pd.read_csv('../Services/data/raw.csv')\n",
    "cam_df = pd.read_csv('../Services/data/cam_raw.csv')\n",
    "imu_df = pd.read_csv('../Services/data/imu_raw.csv')"
   ]
  },
  {
   "cell_type": "code",
   "execution_count": 2,
   "outputs": [],
   "source": [
    "import logging\n",
    "import sys\n",
    "import datetime\n",
    "\n",
    "# To use differen't log level for file and console\n",
    "timestamp = datetime.datetime.utcnow().strftime('%Y%m%d_%H-%M-%S')\n",
    "filename=f'tmp5a_{timestamp}.log'\n",
    "formatter = logging.Formatter('[%(asctime)s] %(name)s {%(filename)s:%(lineno)d} %(levelname)s - %(message)s')\n",
    "\n",
    "file_handler = logging.FileHandler(filename=filename)\n",
    "file_handler.setLevel(logging.INFO)\n",
    "file_handler.setFormatter(formatter)\n",
    "\n",
    "stream_handler = logging.StreamHandler(sys.stdout)\n",
    "stream_handler.setLevel(logging.INFO)\n",
    "\n",
    "# The handlers have to be at a root level since they are the final output\n",
    "logging.basicConfig(\n",
    "    level=logging.DEBUG,\n",
    "    format='[{%(filename)s:%(lineno)d} %(levelname)s - %(message)s',\n",
    "    handlers=[\n",
    "        file_handler,\n",
    "        stream_handler\n",
    "    ]\n",
    ")\n",
    "\n",
    "# Test\n",
    "logger = logging.getLogger(__name__)\n",
    "# logger.debug('This message should go to the log file')\n",
    "# logger.info('This should go to the stdout and file')\n",
    "# logger.warning('And this, too')\n",
    "# print('filelog', open(filename).read())"
   ],
   "metadata": {
    "collapsed": false
   }
  },
  {
   "cell_type": "code",
   "execution_count": 3,
   "metadata": {},
   "outputs": [],
   "source": [
    "import numpy as np\n",
    "import matplotlib.pyplot as plt\n",
    "import matplotlib.colors as mcolors\n",
    "\n",
    "def draw_grid_map(data, vmax=255):\n",
    "\n",
    "    # Create a colormap from dark blue to light blue\n",
    "    cmap = mcolors.LinearSegmentedColormap.from_list(\"\", [\"white\", \"black\"])\n",
    "\n",
    "    # Create a grid color map\n",
    "    plt.imshow(data, cmap=cmap, origin=\"lower\", vmin=0, vmax=vmax)\n",
    "\n",
    "    # Add a colorbar to show the intensity of the colors\n",
    "    # plt.colorbar()\n",
    "\n",
    "    # Set the ticks to show the index of the 2D array\n",
    "    plt.xticks(np.arange(-0.5, data.shape[1], 1), [])\n",
    "    plt.yticks(np.arange(-0.5, data.shape[0], 1), [])\n",
    "\n",
    "    # Customize the grid appearance\n",
    "    plt.gca().set_xticklabels([])\n",
    "    plt.gca().set_yticklabels([])\n",
    "    plt.gca().xaxis.set_ticks_position('none')\n",
    "    plt.gca().yaxis.set_ticks_position('none')\n",
    "\n",
    "    # Show the grid lines\n",
    "    plt.grid(True, which='both', color='k', linewidth=1)\n",
    "\n",
    "    # Show the plot\n",
    "    plt.show()"
   ]
  },
  {
   "cell_type": "markdown",
   "metadata": {},
   "source": [
    "The RL agent is installed on each pedestrian's phone and the state space of the IMU contains only the local estimated position, orientation, and velocity, the approach to fuse data and match pedestrians can be adapted as follows:\n",
    "\n",
    "Data association: Each RL agent will need to consider all the pedestrian detections from the camera in order to associate its local IMU data with the correct visual detection. The agent can learn a policy that takes into account its position, orientation, and velocity estimates from the IMU data, as well as the global visual detections, to find the best match.\n",
    "\n",
    "Feature extraction and comparison: To facilitate data association, the RL agent may need to extract relevant features from both the IMU and visual data that can help in matching pedestrians. For example, it could use the IMU-derived velocity and orientation information to predict its appearance or location in the camera's field of view. The agent can then compare these predictions with the actual visual detections to find the best match.\n",
    "\n",
    "Collaboration among pedestrians: If each pedestrian is equipped with an RL agent, they can cooperate by sharing information about their positions, orientations, and velocities. This collaboration can help improve the data association process by providing additional context and reducing ambiguities. The agents can communicate and collaborate in a decentralized manner, updating their policies and estimates based on the shared information.\n",
    "\n",
    "Temporal consistency: The RL agent can still exploit temporal consistency to improve the matching process. By considering the historical data, the agent can learn a more robust policy that can handle temporary occlusions or noisy measurements. This can be achieved by incorporating memory components in the RL architecture, such as LSTM (Long Short-Term Memory) or GRU (Gated Recurrent Unit) layers.\n",
    "\n",
    "By adjusting the approach to handle global visual detections, the RL agents on each pedestrian's phone can still effectively fuse local IMU data with the camera's pedestrian detections and match the pedestrians correctly. This can result in more accurate and robust localization in dynamic environments with multiple pedestrians."
   ]
  },
  {
   "cell_type": "markdown",
   "metadata": {},
   "source": [
    "The x-axis  is the 10 different short tracklet during the time window, the y-axis is the local IMU data. The color represents the probability to assign. To assign the IMU to visual tracklet, we expect grids on the diagonal to be darker."
   ]
  },
  {
   "cell_type": "code",
   "execution_count": 4,
   "outputs": [
    {
     "name": "stderr",
     "output_type": "stream",
     "text": [
      "Using cache found in C:\\Users\\liuxi/.cache\\torch\\hub\\huggingface_pytorch-transformers_main\n",
      "C:\\Users\\liuxi\\anaconda3\\envs\\WirelessDT\\lib\\site-packages\\gymnasium\\utils\\passive_env_checker.py:35: UserWarning: \u001B[33mWARN: A Box observation space has an unconventional shape (neither an image, nor a 1D vector). We recommend flattening the observation to have only a 1D vector or use a custom policy to properly process the data. Actual observation shape: (150, 20)\u001B[0m\n",
      "  logger.warn(\n",
      "C:\\Users\\liuxi\\anaconda3\\envs\\WirelessDT\\lib\\site-packages\\gymnasium\\utils\\passive_env_checker.py:35: UserWarning: \u001B[33mWARN: A Box observation space has an unconventional shape (neither an image, nor a 1D vector). We recommend flattening the observation to have only a 1D vector or use a custom policy to properly process the data. Actual observation shape: (150, 6)\u001B[0m\n",
      "  logger.warn(\n",
      "C:\\Users\\liuxi\\anaconda3\\envs\\WirelessDT\\lib\\site-packages\\gymnasium\\utils\\passive_env_checker.py:22: UserWarning: \u001B[33mWARN: It seems a Box observation space is an image but the `dtype` is not `np.uint8`, actual type: float32. If the Box observation space is not an image, we recommend flattening the observation to have only a 1D vector.\u001B[0m\n",
      "  logger.warn(\n",
      "C:\\Users\\liuxi\\anaconda3\\envs\\WirelessDT\\lib\\site-packages\\gymnasium\\utils\\passive_env_checker.py:27: UserWarning: \u001B[33mWARN: It seems a Box observation space is an image but the lower and upper bounds are not [0, 255]. Actual lower bound: 0.0, upper bound: 1.0. Generally, CNN policies assume observations are within that range, so you may encounter an issue if the observation values are not.\u001B[0m\n",
      "  logger.warn(\n"
     ]
    }
   ],
   "source": [
    "import gymnasium as gym\n",
    "import RL\n",
    "\n",
    "env = gym.make('RL/RLfuse-v0')\n",
    "env.load_data(wifi_df, cam_df, imu_df, timelength=50)"
   ],
   "metadata": {
    "collapsed": false
   }
  },
  {
   "cell_type": "code",
   "execution_count": 5,
   "metadata": {},
   "outputs": [
    {
     "name": "stdout",
     "output_type": "stream",
     "text": [
      "[{rlfuse_ppo.py:75} INFO - Setting up logger...\n",
      "[{rlfuse_ppo.py:257} INFO - Learnilng at timestep: 0\n"
     ]
    },
    {
     "name": "stderr",
     "output_type": "stream",
     "text": [
      "C:\\Users\\liuxi\\anaconda3\\envs\\WirelessDT\\lib\\site-packages\\gymnasium\\utils\\passive_env_checker.py:181: UserWarning: \u001B[33mWARN: The obs returned by the `reset()` method is not within the observation space.\u001B[0m\n",
      "  logger.warn(f\"{pre} is not within the observation space.\")\n",
      "C:\\Users\\liuxi\\anaconda3\\envs\\WirelessDT\\lib\\site-packages\\gymnasium\\utils\\passive_env_checker.py:181: UserWarning: \u001B[33mWARN: The obs returned by the `step()` method is not within the observation space.\u001B[0m\n",
      "  logger.warn(f\"{pre} is not within the observation space.\")\n",
      "C:\\Users\\liuxi\\anaconda3\\envs\\WirelessDT\\lib\\site-packages\\gymnasium\\utils\\passive_env_checker.py:268: UserWarning: \u001B[33mWARN: The reward returned by `step()` must be a float, int, np.integer or np.floating, actual type: <class 'tuple'>\u001B[0m\n",
      "  logger.warn(\n"
     ]
    },
    {
     "ename": "KeyboardInterrupt",
     "evalue": "",
     "output_type": "error",
     "traceback": [
      "\u001B[1;31m---------------------------------------------------------------------------\u001B[0m",
      "\u001B[1;31mKeyboardInterrupt\u001B[0m                         Traceback (most recent call last)",
      "Cell \u001B[1;32mIn[5], line 3\u001B[0m\n\u001B[0;32m      1\u001B[0m \u001B[38;5;28;01mfrom\u001B[39;00m \u001B[38;5;21;01mRL\u001B[39;00m\u001B[38;5;21;01m.\u001B[39;00m\u001B[38;5;21;01malgorithm\u001B[39;00m\u001B[38;5;21;01m.\u001B[39;00m\u001B[38;5;21;01mrlfuse_ppo\u001B[39;00m \u001B[38;5;28;01mimport\u001B[39;00m Rlfuse_ppo\n\u001B[0;32m      2\u001B[0m agent \u001B[38;5;241m=\u001B[39m Rlfuse_ppo(env, logger, fill_value\u001B[38;5;241m=\u001B[39m\u001B[38;5;241m0.05\u001B[39m, lr\u001B[38;5;241m=\u001B[39m\u001B[38;5;241m0.0025\u001B[39m, load_weight\u001B[38;5;241m=\u001B[39m\u001B[38;5;28;01mFalse\u001B[39;00m)\n\u001B[1;32m----> 3\u001B[0m \u001B[43magent\u001B[49m\u001B[38;5;241;43m.\u001B[39;49m\u001B[43mlearn\u001B[49m\u001B[43m(\u001B[49m\u001B[38;5;241;43m100000\u001B[39;49m\u001B[43m)\u001B[49m\n",
      "File \u001B[1;32m~\\Git Repo\\WirelessDT\\Source\\WiTracingPy\\RL\\algorithm\\rlfuse_ppo.py:259\u001B[0m, in \u001B[0;36mRlfuse_ppo.learn\u001B[1;34m(self, total_timesteps)\u001B[0m\n\u001B[0;32m    257\u001B[0m \u001B[38;5;28mself\u001B[39m\u001B[38;5;241m.\u001B[39mlogger\u001B[38;5;241m.\u001B[39minfo(\u001B[38;5;124mf\u001B[39m\u001B[38;5;124m\"\u001B[39m\u001B[38;5;124mLearnilng at timestep: \u001B[39m\u001B[38;5;132;01m{\u001B[39;00mt_so_far\u001B[38;5;132;01m}\u001B[39;00m\u001B[38;5;124m\"\u001B[39m)\n\u001B[0;32m    258\u001B[0m \u001B[38;5;66;03m# ALG STEP 3\u001B[39;00m\n\u001B[1;32m--> 259\u001B[0m batch_obs, batch_acts, batch_log_probs, batch_rtgs, batch_lens, batch_msp \u001B[38;5;241m=\u001B[39m \u001B[38;5;28;43mself\u001B[39;49m\u001B[38;5;241;43m.\u001B[39;49m\u001B[43mrollout\u001B[49m\u001B[43m(\u001B[49m\u001B[43m)\u001B[49m\n\u001B[0;32m    261\u001B[0m \u001B[38;5;66;03m# save the batch average matching success rate (percentage)\u001B[39;00m\n\u001B[0;32m    262\u001B[0m batch_msp_mean \u001B[38;5;241m=\u001B[39m \u001B[38;5;28msum\u001B[39m(batch_msp) \u001B[38;5;241m/\u001B[39m \u001B[38;5;28mlen\u001B[39m(batch_msp)\n",
      "File \u001B[1;32m~\\Git Repo\\WirelessDT\\Source\\WiTracingPy\\RL\\algorithm\\rlfuse_ppo.py:231\u001B[0m, in \u001B[0;36mRlfuse_ppo.rollout\u001B[1;34m(self)\u001B[0m\n\u001B[0;32m    229\u001B[0m batch_log_probs \u001B[38;5;241m=\u001B[39m torch\u001B[38;5;241m.\u001B[39mtensor(batch_log_probs, dtype\u001B[38;5;241m=\u001B[39mtorch\u001B[38;5;241m.\u001B[39mfloat)\u001B[38;5;241m.\u001B[39mto(\u001B[38;5;28mself\u001B[39m\u001B[38;5;241m.\u001B[39mdevice)\n\u001B[0;32m    230\u001B[0m \u001B[38;5;66;03m# ALG STEP #4\u001B[39;00m\n\u001B[1;32m--> 231\u001B[0m batch_rtgs \u001B[38;5;241m=\u001B[39m \u001B[38;5;28;43mself\u001B[39;49m\u001B[38;5;241;43m.\u001B[39;49m\u001B[43mcompute_rtgs\u001B[49m\u001B[43m(\u001B[49m\u001B[43mbatch_rews\u001B[49m\u001B[43m)\u001B[49m\n\u001B[0;32m    232\u001B[0m \u001B[38;5;66;03m# Return the batch data\u001B[39;00m\n\u001B[0;32m    233\u001B[0m \u001B[38;5;28;01mreturn\u001B[39;00m batch_obs, batch_acts, batch_log_probs, batch_rtgs, batch_lens, batch_msp\n",
      "File \u001B[1;32m~\\Git Repo\\WirelessDT\\Source\\WiTracingPy\\RL\\algorithm\\rlfuse_ppo.py:145\u001B[0m, in \u001B[0;36mRlfuse_ppo.compute_rtgs\u001B[1;34m(self, batch_rews)\u001B[0m\n\u001B[0;32m    143\u001B[0m batch_rtgs_per_batch \u001B[38;5;241m=\u001B[39m []\n\u001B[0;32m    144\u001B[0m \u001B[38;5;66;03m# Iterate through each episode\u001B[39;00m\n\u001B[1;32m--> 145\u001B[0m \u001B[38;5;28;01mfor\u001B[39;00m ep_rews \u001B[38;5;129;01min\u001B[39;00m \u001B[43mbatch_rew\u001B[49m:\n\u001B[0;32m    146\u001B[0m     ep_rtgs \u001B[38;5;241m=\u001B[39m []\n\u001B[0;32m    147\u001B[0m     discounted_reward \u001B[38;5;241m=\u001B[39m \u001B[38;5;241m0\u001B[39m  \u001B[38;5;66;03m# The discounted reward so far\u001B[39;00m\n",
      "File \u001B[1;32m~\\Git Repo\\WirelessDT\\Source\\WiTracingPy\\RL\\algorithm\\rlfuse_ppo.py:145\u001B[0m, in \u001B[0;36mRlfuse_ppo.compute_rtgs\u001B[1;34m(self, batch_rews)\u001B[0m\n\u001B[0;32m    143\u001B[0m batch_rtgs_per_batch \u001B[38;5;241m=\u001B[39m []\n\u001B[0;32m    144\u001B[0m \u001B[38;5;66;03m# Iterate through each episode\u001B[39;00m\n\u001B[1;32m--> 145\u001B[0m \u001B[38;5;28;01mfor\u001B[39;00m ep_rews \u001B[38;5;129;01min\u001B[39;00m \u001B[43mbatch_rew\u001B[49m:\n\u001B[0;32m    146\u001B[0m     ep_rtgs \u001B[38;5;241m=\u001B[39m []\n\u001B[0;32m    147\u001B[0m     discounted_reward \u001B[38;5;241m=\u001B[39m \u001B[38;5;241m0\u001B[39m  \u001B[38;5;66;03m# The discounted reward so far\u001B[39;00m\n",
      "File \u001B[1;32m_pydevd_bundle\\pydevd_cython_win32_39_64.pyx:1179\u001B[0m, in \u001B[0;36m_pydevd_bundle.pydevd_cython_win32_39_64.SafeCallWrapper.__call__\u001B[1;34m()\u001B[0m\n",
      "File \u001B[1;32m_pydevd_bundle\\pydevd_cython_win32_39_64.pyx:620\u001B[0m, in \u001B[0;36m_pydevd_bundle.pydevd_cython_win32_39_64.PyDBFrame.trace_dispatch\u001B[1;34m()\u001B[0m\n",
      "File \u001B[1;32m_pydevd_bundle\\pydevd_cython_win32_39_64.pyx:929\u001B[0m, in \u001B[0;36m_pydevd_bundle.pydevd_cython_win32_39_64.PyDBFrame.trace_dispatch\u001B[1;34m()\u001B[0m\n",
      "File \u001B[1;32m_pydevd_bundle\\pydevd_cython_win32_39_64.pyx:920\u001B[0m, in \u001B[0;36m_pydevd_bundle.pydevd_cython_win32_39_64.PyDBFrame.trace_dispatch\u001B[1;34m()\u001B[0m\n",
      "File \u001B[1;32m_pydevd_bundle\\pydevd_cython_win32_39_64.pyx:317\u001B[0m, in \u001B[0;36m_pydevd_bundle.pydevd_cython_win32_39_64.PyDBFrame.do_wait_suspend\u001B[1;34m()\u001B[0m\n",
      "File \u001B[1;32mC:\\Program Files\\JetBrains\\PyCharm 2022.3\\plugins\\python\\helpers\\pydev\\pydevd.py:1160\u001B[0m, in \u001B[0;36mPyDB.do_wait_suspend\u001B[1;34m(self, thread, frame, event, arg, send_suspend_message, is_unhandled_exception)\u001B[0m\n\u001B[0;32m   1157\u001B[0m         from_this_thread\u001B[38;5;241m.\u001B[39mappend(frame_id)\n\u001B[0;32m   1159\u001B[0m \u001B[38;5;28;01mwith\u001B[39;00m \u001B[38;5;28mself\u001B[39m\u001B[38;5;241m.\u001B[39m_threads_suspended_single_notification\u001B[38;5;241m.\u001B[39mnotify_thread_suspended(thread_id, stop_reason):\n\u001B[1;32m-> 1160\u001B[0m     \u001B[38;5;28;43mself\u001B[39;49m\u001B[38;5;241;43m.\u001B[39;49m\u001B[43m_do_wait_suspend\u001B[49m\u001B[43m(\u001B[49m\u001B[43mthread\u001B[49m\u001B[43m,\u001B[49m\u001B[43m \u001B[49m\u001B[43mframe\u001B[49m\u001B[43m,\u001B[49m\u001B[43m \u001B[49m\u001B[43mevent\u001B[49m\u001B[43m,\u001B[49m\u001B[43m \u001B[49m\u001B[43marg\u001B[49m\u001B[43m,\u001B[49m\u001B[43m \u001B[49m\u001B[43msuspend_type\u001B[49m\u001B[43m,\u001B[49m\u001B[43m \u001B[49m\u001B[43mfrom_this_thread\u001B[49m\u001B[43m)\u001B[49m\n",
      "File \u001B[1;32mC:\\Program Files\\JetBrains\\PyCharm 2022.3\\plugins\\python\\helpers\\pydev\\pydevd.py:1175\u001B[0m, in \u001B[0;36mPyDB._do_wait_suspend\u001B[1;34m(self, thread, frame, event, arg, suspend_type, from_this_thread)\u001B[0m\n\u001B[0;32m   1172\u001B[0m             \u001B[38;5;28mself\u001B[39m\u001B[38;5;241m.\u001B[39m_call_mpl_hook()\n\u001B[0;32m   1174\u001B[0m         \u001B[38;5;28mself\u001B[39m\u001B[38;5;241m.\u001B[39mprocess_internal_commands()\n\u001B[1;32m-> 1175\u001B[0m         \u001B[43mtime\u001B[49m\u001B[38;5;241;43m.\u001B[39;49m\u001B[43msleep\u001B[49m\u001B[43m(\u001B[49m\u001B[38;5;241;43m0.01\u001B[39;49m\u001B[43m)\u001B[49m\n\u001B[0;32m   1177\u001B[0m \u001B[38;5;28mself\u001B[39m\u001B[38;5;241m.\u001B[39mcancel_async_evaluation(get_current_thread_id(thread), \u001B[38;5;28mstr\u001B[39m(\u001B[38;5;28mid\u001B[39m(frame)))\n\u001B[0;32m   1179\u001B[0m \u001B[38;5;66;03m# process any stepping instructions\u001B[39;00m\n",
      "\u001B[1;31mKeyboardInterrupt\u001B[0m: "
     ]
    }
   ],
   "source": [
    "from RL.algorithm.rlfuse_ppo import Rlfuse_ppo\n",
    "agent = Rlfuse_ppo(env, logger, fill_value=0.05, lr=0.0025, load_weight=False)\n",
    "agent.learn(100000)"
   ]
  },
  {
   "cell_type": "markdown",
   "source": [
    "TO-DO:\n",
    "1. add more AI to the scene, display performance (e.g. matching success rate)\n",
    "2. add label order shuffle;\n",
    "3. add validation set\n",
    "4. add noise to data\n",
    "5. add time step interval (e.g. 5 time step between each selection?)"
   ],
   "metadata": {
    "collapsed": false
   }
  },
  {
   "cell_type": "code",
   "execution_count": 9,
   "outputs": [
    {
     "data": {
      "text/plain": "0.0"
     },
     "execution_count": 9,
     "metadata": {},
     "output_type": "execute_result"
    }
   ],
   "source": [
    "np.log(1)"
   ],
   "metadata": {
    "collapsed": false
   }
  },
  {
   "cell_type": "code",
   "execution_count": 60,
   "outputs": [
    {
     "name": "stderr",
     "output_type": "stream",
     "text": [
      "C:\\Users\\liuxi\\AppData\\Local\\Temp\\ipykernel_31936\\1526300398.py:7: RuntimeWarning: divide by zero encountered in log\n",
      "  entropy = np.clip(np.log(prob), a_min=-10, a_max=None)\n"
     ]
    },
    {
     "data": {
      "text/plain": "<Figure size 640x480 with 1 Axes>",
      "image/png": "[encoded data removed]"
     },
     "metadata": {},
     "output_type": "display_data"
    }
   ],
   "source": [
    "import numpy as np\n",
    "def calculate_reward(reward):\n",
    "    # Calculate the matching probability\n",
    "    prob = np.mean(reward)\n",
    "\n",
    "    # Calculate the entropy of the matching probabilities\n",
    "    entropy = np.clip(np.log(prob), a_min=-10, a_max=None)\n",
    "\n",
    "    # Add the entropy bonus to the reward\n",
    "    reward = np.array(reward) + entropy\n",
    "\n",
    "    return sum(reward)\n",
    "def generate_lists(n):\n",
    "    lists = []\n",
    "    initial = [0]*n\n",
    "    lists.append(initial)\n",
    "    for i in range(n):\n",
    "        temp_list = initial.copy()\n",
    "        for j in range(i+1):\n",
    "            temp_list[j] = 1\n",
    "        lists.append(temp_list)\n",
    "    return lists\n",
    "\n",
    "reward_lists = generate_lists(150)\n",
    "\n",
    "import matplotlib.pyplot as plt\n",
    "outputs = []\n",
    "for list in reward_lists:\n",
    "    outputs.append(calculate_reward(list))\n",
    "plt.plot(outputs)\n",
    "plt.show()"
   ],
   "metadata": {
    "collapsed": false
   }
  },
  {
   "cell_type": "code",
   "execution_count": 11,
   "outputs": [],
   "source": [
    "agent_eval = Rlfuse_ppo(env, load_weight=True)\n",
    "obs, info = env.get_evaluate_obs(170)\n",
    "action = agent_eval.evaluate_action(obs)\n",
    "action_idx, reward = env.evaluate_action(action)\n",
    "imu_vis = obs[0]"
   ],
   "metadata": {
    "collapsed": false
   }
  },
  {
   "cell_type": "code",
   "execution_count": 13,
   "outputs": [
    {
     "data": {
      "text/plain": "35"
     },
     "execution_count": 13,
     "metadata": {},
     "output_type": "execute_result"
    }
   ],
   "source": [
    "sum(reward)"
   ],
   "metadata": {
    "collapsed": false
   }
  },
  {
   "cell_type": "code",
   "execution_count": 45,
   "outputs": [],
   "source": [
    "highest_probabilities = np.max(action, axis=-1).squeeze()\n",
    "max_indices = np.squeeze(np.argmax(action, axis=-1))\n",
    "\n",
    "# Replace indices with -1 where the highest probability is lower than 0.5\n",
    "modified_indices = np.where(highest_probabilities >= 0.7, max_indices, -1)\n",
    "\n",
    "# Convert the modified_indices numpy array to a list\n",
    "modified_indices_list = modified_indices.tolist()"
   ],
   "metadata": {
    "collapsed": false
   }
  },
  {
   "cell_type": "code",
   "execution_count": 17,
   "outputs": [],
   "source": [
    "from RL.agent.fusion_model_v2 import FusionModelv2\n",
    "from RL.agent.fusion_model_v4 import FusionModelv4\n",
    "from RL.agent.dotProductAttention import DotProductAttention\n",
    "\n",
    "# model = FusionModelv2(imu_feature_size=32, visual_feature_size=32, lstm_hidden_size=64, max_pedestrian_detections=10, num_classes=10)\n",
    "#\n",
    "# input_list = np.random.rand(10, 50, 10, 2)\n",
    "# imu_list = np.random.rand(10, 50, 6)\n",
    "# input = torch.from_numpy(input_list).float()\n",
    "# input_imu = torch.from_numpy(imu_list).float()\n",
    "# input = (input_imu, input)"
   ],
   "metadata": {
    "collapsed": false
   }
  },
  {
   "cell_type": "code",
   "execution_count": 18,
   "outputs": [
    {
     "name": "stdout",
     "output_type": "stream",
     "text": [
      "torch.Size([4, 10, 64])\n"
     ]
    }
   ],
   "source": [
    "model = FusionModelv4(wifi_feature_size=32, imu_feature_size=32, visual_feature_size=64, lstm_hidden_size=64, max_pedestrian_detections=10, num_classes=10)\n",
    "attention = DotProductAttention()\n",
    "# Example usage:\n",
    "batch_size = 4\n",
    "sequence_length = 10\n",
    "d_model = 64\n",
    "\n",
    "# Create random tensors for query, key, and value\n",
    "query = torch.randn(batch_size, sequence_length, d_model)\n",
    "key = torch.randn(batch_size, sequence_length, d_model)\n",
    "value = torch.randn(batch_size, sequence_length, d_model)\n",
    "\n",
    "# Compute the attended output\n",
    "attended_output = attention(query, key, value)\n",
    "print(attended_output.shape)"
   ],
   "metadata": {
    "collapsed": false
   }
  }
 ],
 "metadata": {
  "kernelspec": {
   "display_name": "Python 3 (ipykernel)",
   "language": "python",
   "name": "python3"
  },
  "language_info": {
   "codemirror_mode": {
    "name": "ipython",
    "version": 3
   },
   "file_extension": ".py",
   "mimetype": "text/x-python",
   "name": "python",
   "nbconvert_exporter": "python",
   "pygments_lexer": "ipython3",
   "version": "3.9.15"
  }
 },
 "nbformat": 4,
 "nbformat_minor": 1
}
