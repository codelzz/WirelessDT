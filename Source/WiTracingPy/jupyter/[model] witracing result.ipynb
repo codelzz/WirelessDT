{
 "cells": [
  {
   "cell_type": "markdown",
   "id": "05e6e2fb-7150-4d55-b2b6-cd8682f41f0f",
   "metadata": {},
   "source": [
    "# WiTracing Result"
   ]
  },
  {
   "cell_type": "code",
   "execution_count": 1,
   "id": "4599dab1-559a-4ed8-ade8-c5096a162c1b",
   "metadata": {},
   "outputs": [],
   "source": [
    "import numpy as np\n",
    "import matplotlib.pyplot as plt\n",
    "from matplotlib.lines import Line2D \n",
    "import seaborn as sns\n",
    "import pandas as pd\n",
    "\n",
    "import IPython\n",
    "from IPython.display import clear_output"
   ]
  },
  {
   "cell_type": "code",
   "execution_count": 2,
   "id": "15127b78-2555-44e1-aed2-1019259cf881",
   "metadata": {},
   "outputs": [],
   "source": [
    "CSV_FILE = \"../data/preprocessed_data.csv\"\n",
    "OUT_CSV_FILE = '../data/data.csv\"'"
   ]
  },
  {
   "cell_type": "code",
   "execution_count": 3,
   "id": "efc0298b-939f-47ee-9500-70ea75f9176b",
   "metadata": {},
   "outputs": [
    {
     "data": {
      "text/html": [
       "<div>\n",
       "<style scoped>\n",
       "    .dataframe tbody tr th:only-of-type {\n",
       "        vertical-align: middle;\n",
       "    }\n",
       "\n",
       "    .dataframe tbody tr th {\n",
       "        vertical-align: top;\n",
       "    }\n",
       "\n",
       "    .dataframe thead th {\n",
       "        text-align: right;\n",
       "    }\n",
       "</style>\n",
       "<table border=\"1\" class=\"dataframe\">\n",
       "  <thead>\n",
       "    <tr style=\"text-align: right;\">\n",
       "      <th></th>\n",
       "      <th>tx</th>\n",
       "      <th>x</th>\n",
       "      <th>y</th>\n",
       "      <th>z</th>\n",
       "      <th>rssi</th>\n",
       "      <th>timestamp</th>\n",
       "    </tr>\n",
       "  </thead>\n",
       "  <tbody>\n",
       "    <tr>\n",
       "      <th>0</th>\n",
       "      <td>tx8</td>\n",
       "      <td>-572.51</td>\n",
       "      <td>669.33</td>\n",
       "      <td>686.66</td>\n",
       "      <td>-56</td>\n",
       "      <td>1666422538832</td>\n",
       "    </tr>\n",
       "    <tr>\n",
       "      <th>1</th>\n",
       "      <td>tx9</td>\n",
       "      <td>-572.51</td>\n",
       "      <td>669.33</td>\n",
       "      <td>686.66</td>\n",
       "      <td>-56</td>\n",
       "      <td>1666422538906</td>\n",
       "    </tr>\n",
       "    <tr>\n",
       "      <th>2</th>\n",
       "      <td>tx10</td>\n",
       "      <td>-572.51</td>\n",
       "      <td>669.33</td>\n",
       "      <td>686.66</td>\n",
       "      <td>-59</td>\n",
       "      <td>1666422538918</td>\n",
       "    </tr>\n",
       "    <tr>\n",
       "      <th>3</th>\n",
       "      <td>tx12</td>\n",
       "      <td>-572.51</td>\n",
       "      <td>669.33</td>\n",
       "      <td>686.66</td>\n",
       "      <td>-62</td>\n",
       "      <td>1666422538928</td>\n",
       "    </tr>\n",
       "    <tr>\n",
       "      <th>4</th>\n",
       "      <td>tx13</td>\n",
       "      <td>-572.51</td>\n",
       "      <td>669.33</td>\n",
       "      <td>686.66</td>\n",
       "      <td>-51</td>\n",
       "      <td>1666422538937</td>\n",
       "    </tr>\n",
       "    <tr>\n",
       "      <th>...</th>\n",
       "      <td>...</td>\n",
       "      <td>...</td>\n",
       "      <td>...</td>\n",
       "      <td>...</td>\n",
       "      <td>...</td>\n",
       "      <td>...</td>\n",
       "    </tr>\n",
       "    <tr>\n",
       "      <th>178375</th>\n",
       "      <td>tx23</td>\n",
       "      <td>-922.72</td>\n",
       "      <td>-917.53</td>\n",
       "      <td>686.55</td>\n",
       "      <td>-255</td>\n",
       "      <td>1666425276475</td>\n",
       "    </tr>\n",
       "    <tr>\n",
       "      <th>178376</th>\n",
       "      <td>tx25</td>\n",
       "      <td>-922.72</td>\n",
       "      <td>-917.53</td>\n",
       "      <td>686.55</td>\n",
       "      <td>-65</td>\n",
       "      <td>1666425276488</td>\n",
       "    </tr>\n",
       "    <tr>\n",
       "      <th>178377</th>\n",
       "      <td>tx6</td>\n",
       "      <td>-922.72</td>\n",
       "      <td>-917.53</td>\n",
       "      <td>686.55</td>\n",
       "      <td>-58</td>\n",
       "      <td>1666425276507</td>\n",
       "    </tr>\n",
       "    <tr>\n",
       "      <th>178378</th>\n",
       "      <td>tx4</td>\n",
       "      <td>-922.72</td>\n",
       "      <td>-917.53</td>\n",
       "      <td>686.55</td>\n",
       "      <td>-74</td>\n",
       "      <td>1666425276520</td>\n",
       "    </tr>\n",
       "    <tr>\n",
       "      <th>178379</th>\n",
       "      <td>tx1</td>\n",
       "      <td>-922.72</td>\n",
       "      <td>-917.53</td>\n",
       "      <td>686.55</td>\n",
       "      <td>-77</td>\n",
       "      <td>1666425276540</td>\n",
       "    </tr>\n",
       "  </tbody>\n",
       "</table>\n",
       "<p>178380 rows × 6 columns</p>\n",
       "</div>"
      ],
      "text/plain": [
       "          tx       x       y       z  rssi      timestamp\n",
       "0        tx8 -572.51  669.33  686.66   -56  1666422538832\n",
       "1        tx9 -572.51  669.33  686.66   -56  1666422538906\n",
       "2       tx10 -572.51  669.33  686.66   -59  1666422538918\n",
       "3       tx12 -572.51  669.33  686.66   -62  1666422538928\n",
       "4       tx13 -572.51  669.33  686.66   -51  1666422538937\n",
       "...      ...     ...     ...     ...   ...            ...\n",
       "178375  tx23 -922.72 -917.53  686.55  -255  1666425276475\n",
       "178376  tx25 -922.72 -917.53  686.55   -65  1666425276488\n",
       "178377   tx6 -922.72 -917.53  686.55   -58  1666425276507\n",
       "178378   tx4 -922.72 -917.53  686.55   -74  1666425276520\n",
       "178379   tx1 -922.72 -917.53  686.55   -77  1666425276540\n",
       "\n",
       "[178380 rows x 6 columns]"
      ]
     },
     "execution_count": 3,
     "metadata": {},
     "output_type": "execute_result"
    }
   ],
   "source": [
    "def preprocess(df):\n",
    "    df['tx'] = df['tx'].str.lower()\n",
    "    df['x'] = df['x'].round(2)\n",
    "    df['y'] = df['y'].round(2)\n",
    "    df['z'] = df['z'].round(2)\n",
    "    return df\n",
    "\n",
    "df = pd.read_csv(CSV_FILE)\n",
    "df = preprocess(df)\n",
    "df"
   ]
  },
  {
   "cell_type": "markdown",
   "id": "29dfbe68-7da5-4e71-8845-16c4ecde80c7",
   "metadata": {},
   "source": [
    "### X-Y Coordinates for All Measurement"
   ]
  },
  {
   "cell_type": "code",
   "execution_count": 4,
   "id": "52401afe-ed32-419c-8292-9693dcf06062",
   "metadata": {},
   "outputs": [
    {
     "data": {
      "image/png": "[encoded data removed]",
      "text/plain": [
       "<Figure size 360x360 with 1 Axes>"
      ]
     },
     "metadata": {
      "needs_background": "light"
     },
     "output_type": "display_data"
    }
   ],
   "source": [
    "fig = plt.figure(figsize=(5,5))\n",
    "plt.scatter(df.x, df.y, s=1)\n",
    "plt.show()"
   ]
  },
  {
   "cell_type": "markdown",
   "id": "45d407e0-4ece-4175-a41b-4189db68e3a1",
   "metadata": {},
   "source": [
    "### X-Y Coordinates for Single TX"
   ]
  },
  {
   "cell_type": "code",
   "execution_count": 5,
   "id": "0ea175b1-9fea-4e68-9c2e-2aa26ee96194",
   "metadata": {},
   "outputs": [
    {
     "data": {
      "image/png": "[encoded data removed]",
      "text/plain": [
       "<Figure size 360x360 with 1 Axes>"
      ]
     },
     "metadata": {
      "needs_background": "light"
     },
     "output_type": "display_data"
    }
   ],
   "source": [
    "tx_df = df[df.tx == 'tx4']\n",
    "fig = plt.figure(figsize=(5,5))\n",
    "plt.scatter(tx_df.x, tx_df.y, s=1)\n",
    "plt.show()"
   ]
  },
  {
   "cell_type": "code",
   "execution_count": 6,
   "id": "85f91e73-5554-4a92-83f1-3148f36b4b44",
   "metadata": {},
   "outputs": [
    {
     "data": {
      "text/plain": [
       "['tx8',\n",
       " 'tx9',\n",
       " 'tx10',\n",
       " 'tx12',\n",
       " 'tx13',\n",
       " 'tx14',\n",
       " 'tx15',\n",
       " 'tx16',\n",
       " 'tx17',\n",
       " 'tx18',\n",
       " 'tx19',\n",
       " 'tx20',\n",
       " 'tx21',\n",
       " 'tx22',\n",
       " 'tx23',\n",
       " 'tx24',\n",
       " 'tx25',\n",
       " 'tx26',\n",
       " 'tx7',\n",
       " 'tx6',\n",
       " 'tx5',\n",
       " 'tx4',\n",
       " 'tx3',\n",
       " 'tx2',\n",
       " 'tx1',\n",
       " 'tx0']"
      ]
     },
     "execution_count": 6,
     "metadata": {},
     "output_type": "execute_result"
    }
   ],
   "source": [
    "list(df.tx.unique())"
   ]
  },
  {
   "cell_type": "markdown",
   "id": "c02f6c9f-ee4e-4f9b-8b7d-419d34f8af75",
   "metadata": {},
   "source": [
    "### Format Raw Data"
   ]
  },
  {
   "cell_type": "code",
   "execution_count": 7,
   "id": "9789d5eb-5138-4142-897d-6424562e5ab2",
   "metadata": {},
   "outputs": [],
   "source": [
    "def formating(df):\n",
    "    prev_xyz = [0,0,0]\n",
    "    tx_num = len(df.tx.unique())\n",
    "    columns = ['t', 'x', 'y', 'z'] + list(df.tx.unique())\n",
    "    prep_df = pd.DataFrame(columns = columns)\n",
    "    \n",
    "    # although using concat method can significantly improve the the efficiency in this part, but we need to process one-by-one in the wi tracing system\n",
    "    total = len(df)\n",
    "    for num, row in df.iterrows():\n",
    "        xyz = [row['x'], row['y'], row['z']]\n",
    "        # if coordinate change\n",
    "        index = len(prep_df.index)\n",
    "        if prev_xyz != xyz:\n",
    "            prep_df.loc[index] = [row['timestamp'], xyz[0], xyz[1], xyz[2]] + [-255] * tx_num\n",
    "            prev_xyz = xyz\n",
    "            prep_df.at[index, row['tx']] = row['rssi']\n",
    "        else:\n",
    "            prep_df.at[index - 1, row['tx']] = row['rssi']\n",
    "        clear_output(wait=True)\n",
    "        progress = round(num / total * 100, 2)\n",
    "        print(f'Progress: { progress:.2f} %')\n",
    "    return prep_df"
   ]
  },
  {
   "cell_type": "code",
   "execution_count": null,
   "id": "2ef387cb-14e8-47f6-b339-30d90db05ac6",
   "metadata": {},
   "outputs": [
    {
     "name": "stderr",
     "output_type": "stream",
     "text": [
      "IOPub message rate exceeded.\n",
      "The Jupyter server will temporarily stop sending output\n",
      "to the client in order to avoid crashing it.\n",
      "To change this limit, set the config variable\n",
      "`--ServerApp.iopub_msg_rate_limit`.\n",
      "\n",
      "Current values:\n",
      "ServerApp.iopub_msg_rate_limit=1000.0 (msgs/sec)\n",
      "ServerApp.rate_limit_window=3.0 (secs)\n",
      "\n"
     ]
    }
   ],
   "source": [
    "prep_df = formating(df)\n",
    "display(prep_df)"
   ]
  },
  {
   "cell_type": "code",
   "execution_count": 9,
   "id": "cf92066b-321b-45b5-89d2-2b947689eeaa",
   "metadata": {},
   "outputs": [],
   "source": [
    "prep_df.to_csv('../data/data.csv', index=False)"
   ]
  },
  {
   "cell_type": "code",
   "execution_count": null,
   "id": "2ec7504d-364c-4016-831b-9985a6f04d05",
   "metadata": {},
   "outputs": [],
   "source": []
  }
 ],
 "metadata": {
  "kernelspec": {
   "display_name": "Python 3",
   "language": "python",
   "name": "python3"
  },
  "language_info": {
   "codemirror_mode": {
    "name": "ipython",
    "version": 3
   },
   "file_extension": ".py",
   "mimetype": "text/x-python",
   "name": "python",
   "nbconvert_exporter": "python",
   "pygments_lexer": "ipython3",
   "version": "3.9.5"
  }
 },
 "nbformat": 4,
 "nbformat_minor": 5
}
