{
 "cells": [
  {
   "cell_type": "markdown",
   "id": "f9685698-bec1-46ad-bf0d-53757ed85436",
   "metadata": {},
   "source": [
    "# Review - RSSI is under appreciated"
   ]
  },
  {
   "cell_type": "markdown",
   "id": "2a1102a1-2d27-42ea-a0b8-5689786ceefd",
   "metadata": {},
   "source": [
    "Srinivasan, Kannan, and Philip Levis. \"RSSI is under appreciated.\" Proceedings of the third workshop on embedded networked sensors (EmNets). Vol. 2006. 2006."
   ]
  },
  {
   "cell_type": "markdown",
   "id": "fe8e9f89-f7d3-458d-85d8-418cc3d89a15",
   "metadata": {},
   "source": [
    "REFERENCES:  \n",
    "[14] J. Zhao and R. Govindan. Understanding packet deliv\u0002ery performance in dense wireless sensor networks. In\n",
    "Proceedings of the First ACM Conference on Embedded\n",
    "Network Sensor Systems, 2003"
   ]
  },
  {
   "cell_type": "markdown",
   "id": "f17935c3-1400-4710-8a85-76241aaea54e",
   "metadata": {},
   "source": [
    "总结：\n",
    "\n",
    "* 对于固定链路RSSI读数在时间轴上是稳定的\n",
    "* RSSI 和 Packet reception rate (PRR) 有较强的相关性\n",
    "* RSSI 通过在时间上求平均获得\n",
    "* RSSI 计算前提是能正常接收到有效的数据包，即，在信号强度弱，无法接收到有效数据包的情况下RSSI不会被纳入均值计算。"
   ]
  },
  {
   "cell_type": "markdown",
   "id": "65c3f060-f92a-4a64-a9ad-ef148205a878",
   "metadata": {},
   "source": [
    "### Abstract\n",
    "\n",
    "> * RSSI for a given link has **very small variation over time** for a link.\n",
    "> * The packet reception rate (PRR) is at least 86% when the RSSI is above the sensitivity threashold (about -87 dBm)"
   ]
  },
  {
   "cell_type": "markdown",
   "id": "6a72f39d-7341-420c-a4fd-7b54fa0eb9f8",
   "metadata": {},
   "source": [
    "### Introduction\n",
    "\n",
    "> * RSSI is the stength of a received RF signal\n",
    "> * Conventional wisdom (传统观念认为) says that RSSI is not a good indicator. This belief is based on work with early platforms [14], which shoed that while detecting good links was possible with RSSI, whith imperfect links it is difficult to make good estimates.\n",
    "> * RSSI varies **very little over time** compared to LQI. RSSI is **highly correlated with PRR** except when operating at the edge of receiver sensitivity"
   ]
  },
  {
   "cell_type": "markdown",
   "id": "07f8f6bc-1f3b-4492-b28e-0f8915d4a20a",
   "metadata": {},
   "source": [
    "### Experimental Methords\n",
    "\n",
    "> CC2420 provides two useful measurements: RSSI and LQI. RSSI is the estimate of the signal power and is **calculated over 8 symbol periods** and stored in the RSSI_VAL register. Chipcon specifies the following formula to compute the received signal power\n",
    "(P) in dBm: \n",
    "$$P = \\text{RSSI}_\\text{VAL} + \\text{RSSI}_\\text{OFFSET}$$, \n",
    "where RSSI_OFFSET is about -45.\n",
    "\n",
    "\n",
    "Questions & Answers:  \n",
    "Why cc2420 add a RSSI_OFFSET for RSSI calculation?  \n",
    "RSSI_OFFSET is found empirically during system development from the front end gain. [cc2420]"
   ]
  },
  {
   "cell_type": "markdown",
   "id": "bc6bfb28-51ba-4338-9a36-edcfa37580f0",
   "metadata": {},
   "source": [
    "### Result\n",
    "\n",
    "> RSSI values **greater than -87 dBm PRR is at least 85%** indicating a very good link.\n",
    "> \n",
    "> Two outliners in the fist plot that have RSSI value **above -87 dBm but have PRR lower that 85%** and haver higher vaariance than all others. This is possibly **due to changes in multipath pattern that changed RSSI over time**.\n",
    ">\n",
    "> When the link has an RSSI of -84 dBm it had a PRR close to 1 but when the same link had an RSSI of -92 dBm it has a lower PRR. This suggests that a **variation in RSSi can possibly change your PRR**.\n",
    ">\n",
    "> RSSI measurement is very symmeterics. There are **very small variations in the RSSI measured by the two nodes** which are attributed to channel variations (两个收发器间的RSSI测量是对称的)"
   ]
  },
  {
   "cell_type": "markdown",
   "id": "82d557ed-9998-41c1-bb1d-ef77e6f21322",
   "metadata": {},
   "source": [
    "### Conclusion\n",
    "\n",
    "> RSSI as a promising indicator when its value is above the sensitivity threshold of CC2420 (-87 dBm)\n",
    ">\n",
    "> At the edge of this threashold, however, it does not have a good correlation with PRR."
   ]
  },
  {
   "cell_type": "markdown",
   "id": "367dec03-3194-440b-99cb-372af8308be1",
   "metadata": {},
   "source": [
    "### Additional Reviews"
   ]
  },
  {
   "cell_type": "markdown",
   "id": "48e8c104-ebe0-4311-9bff-4428303532b8",
   "metadata": {},
   "source": [
    "#### cc2420 2.4 GHz IEEE 802.15.4 / ZigBee-Ready RF Transceiver datasheet - RSSI / Energy Detection\n",
    "\n",
    "[3] cc2420 2.4 GHz IEEE 802.15.4 / ZigBee-Ready RF Transceiver datasheet https://www.ti.com/lit/ds/symlink/cc2420.pdf\n",
    "\n",
    "RSSI value is always **averaged over 8 symbol periods**.\n",
    "\n",
    "> ##### 23 RSSI/Energy Detection\n",
    ">\n",
    "> CC2420 has a built-in RSSI (Received Signal Strength Indicator) providing a digital value that can be read from the 8 bit, signed 2’s complement RSSI.RSSI_VAL register. \n",
    ">\n",
    "> The **RSSI value is always averaged over 8 symbol periods (128 μs)**, in accordance with [1]. The RSSI_VALID status bit (Table 5) indicates when the RSSI value is valid, meaning that the receiver has been enabled for at least 8 symbol periods. \n",
    "> \n",
    "> The RSSI register value RSSI.RSSI_VAL can be referred to the power P at the RF pins by using the following equations:\n",
    "> $$ P = \\text{RSSI}_\\text{VAL} + \\text{RSSI}_\\text{OFFSET} [dBm] $$\n",
    "> where the **RSSI_OFFSET is found empirically during system development from the front end gain**. RSSI_OFFSET is approximately –45. E.g. if reading a value of –20 from the RSSI register, the RF input power is approximately –65 dBm. \n",
    "> \n",
    "> A typical plot of the RSSI_VAL reading as function of input power is shown in Figure 27. It can be seen from the figure that the RSSI reading from CC2420 is very linear and has a dynamic range of about 100 dB. \n",
    "> \n",
    "> The RSSI register value RSSI.RSSI_VAL is calculated and continuously updated for beach symbol after RSSI has become valid."
   ]
  },
  {
   "cell_type": "markdown",
   "id": "669b70bb-dc9a-4bb4-982a-5f4f876a0352",
   "metadata": {},
   "source": [
    "#### 802.15.4-2020 - IEEE Standard for Low-Rate Wireless Networks\n",
    "\n",
    "“802.15.4-2020 - IEEE Standard for Low-Rate Wireless Networks.” (2020). IEEE.\n",
    "\n",
    "> ##### 6.16.2.8 Received Signal Strength Indicator\n",
    ">\n",
    "> Received Signal Strength Indicator is intended for use by the next higher layer or a common network manager existing in multiple wireless network environment, in order to assess the utilization of spectrum resource together with RCPI and RSNI. \n",
    ">\n",
    "> RSSI is a measure of the RF power in dBm for the received packet. The RF power level at the input of the transceiver **measured during the PHR and is valid after the start-of-frame delimiter (SFD) is detected**. \n",
    "> \n",
    "> RSSI is represented as one octet of integer as shown in Table 8-108; therefore, **the minimum and maximum values are 0 (–174 dBm) and 254 (80 dBm)**, respectively. 255 is reserved. If any **measured value is less than –174 dBm then the reported value shall be rounded up to –174 dBm**."
   ]
  },
  {
   "cell_type": "markdown",
   "id": "7b3c6417-e246-4279-b0e3-9b6831b7b0c0",
   "metadata": {},
   "source": [
    "> ##### 7.5.21 DSME Link Report command\n",
    "> \n",
    "> The Average RSSI field contains the average received signal power by ED measurement during a period of macLinkStatisticPeriod symbols. The **Average RSSI measurement shall be performed for each received packet**, and the use of the Average RSSI result by the next higher layer is not specified in this standard."
   ]
  },
  {
   "cell_type": "code",
   "execution_count": null,
   "id": "66e86a08-15cd-40d9-9a09-16ebe95e1545",
   "metadata": {},
   "outputs": [],
   "source": []
  }
 ],
 "metadata": {
  "kernelspec": {
   "display_name": "Python 3",
   "language": "python",
   "name": "python3"
  },
  "language_info": {
   "codemirror_mode": {
    "name": "ipython",
    "version": 3
   },
   "file_extension": ".py",
   "mimetype": "text/x-python",
   "name": "python",
   "nbconvert_exporter": "python",
   "pygments_lexer": "ipython3",
   "version": "3.9.5"
  }
 },
 "nbformat": 4,
 "nbformat_minor": 5
}
