{
 "cells": [
  {
   "cell_type": "markdown",
   "id": "8a848a81-debf-4e04-83fe-56576b75fd44",
   "metadata": {},
   "source": [
    "# Predictor"
   ]
  },
  {
   "cell_type": "code",
   "execution_count": 22,
   "id": "fd007031-31ff-407a-b753-cc22f85d1a1d",
   "metadata": {},
   "outputs": [],
   "source": [
    "import numpy as np\n",
    "import matplotlib.pyplot as plt\n",
    "import seaborn as sns\n",
    "import pandas as pd\n",
    "import tensorflow as tf\n",
    "from tensorflow.keras.preprocessing import timeseries_dataset_from_array\n",
    "\n",
    "import os\n",
    "import sys\n",
    "module_path = os.path.abspath(os.path.join('..'))\n",
    "if module_path not in sys.path:\n",
    "    sys.path.append(module_path)\n",
    "\n",
    "import time\n",
    "import IPython\n",
    "import IPython.display"
   ]
  },
  {
   "cell_type": "code",
   "execution_count": 23,
   "id": "e6e5f1b2-02fc-43ba-a9da-b8309dd41667",
   "metadata": {},
   "outputs": [],
   "source": [
    "from preprocess.data_generator import WindowSplitter\n",
    "from nn.deepar import create_model\n",
    "from preprocess.data_generator import DatasetGenerator"
   ]
  },
  {
   "cell_type": "code",
   "execution_count": 48,
   "id": "f70bae02-84fc-4751-8c54-e5171591e6c0",
   "metadata": {},
   "outputs": [
    {
     "data": {
      "text/html": [
       "<div>\n",
       "<style scoped>\n",
       "    .dataframe tbody tr th:only-of-type {\n",
       "        vertical-align: middle;\n",
       "    }\n",
       "\n",
       "    .dataframe tbody tr th {\n",
       "        vertical-align: top;\n",
       "    }\n",
       "\n",
       "    .dataframe thead th {\n",
       "        text-align: right;\n",
       "    }\n",
       "</style>\n",
       "<table border=\"1\" class=\"dataframe\">\n",
       "  <thead>\n",
       "    <tr style=\"text-align: right;\">\n",
       "      <th></th>\n",
       "      <th>x</th>\n",
       "      <th>y</th>\n",
       "      <th>z</th>\n",
       "      <th>tx1</th>\n",
       "      <th>tx2</th>\n",
       "      <th>tx3</th>\n",
       "      <th>tx4</th>\n",
       "      <th>tx5</th>\n",
       "      <th>tx6</th>\n",
       "      <th>tx7</th>\n",
       "      <th>tx8</th>\n",
       "      <th>tx9</th>\n",
       "    </tr>\n",
       "  </thead>\n",
       "  <tbody>\n",
       "    <tr>\n",
       "      <th>0</th>\n",
       "      <td>-627.51</td>\n",
       "      <td>649.33</td>\n",
       "      <td>108.78</td>\n",
       "      <td>-48.0</td>\n",
       "      <td>-77.0</td>\n",
       "      <td>-45.0</td>\n",
       "      <td>-42.0</td>\n",
       "      <td>-75.0</td>\n",
       "      <td>-57.0</td>\n",
       "      <td>-48.0</td>\n",
       "      <td>-41.0</td>\n",
       "      <td>-79.0</td>\n",
       "    </tr>\n",
       "    <tr>\n",
       "      <th>1</th>\n",
       "      <td>-627.51</td>\n",
       "      <td>649.33</td>\n",
       "      <td>101.66</td>\n",
       "      <td>-67.0</td>\n",
       "      <td>-72.0</td>\n",
       "      <td>-71.0</td>\n",
       "      <td>-42.0</td>\n",
       "      <td>-74.0</td>\n",
       "      <td>-59.0</td>\n",
       "      <td>-40.0</td>\n",
       "      <td>-41.0</td>\n",
       "      <td>-81.0</td>\n",
       "    </tr>\n",
       "    <tr>\n",
       "      <th>2</th>\n",
       "      <td>-616.07</td>\n",
       "      <td>648.94</td>\n",
       "      <td>93.54</td>\n",
       "      <td>-55.0</td>\n",
       "      <td>-60.0</td>\n",
       "      <td>-61.0</td>\n",
       "      <td>-50.0</td>\n",
       "      <td>-62.0</td>\n",
       "      <td>-69.0</td>\n",
       "      <td>-68.0</td>\n",
       "      <td>-56.0</td>\n",
       "      <td>-69.0</td>\n",
       "    </tr>\n",
       "  </tbody>\n",
       "</table>\n",
       "</div>"
      ],
      "text/plain": [
       "        x       y       z   tx1   tx2   tx3   tx4   tx5   tx6   tx7   tx8  \\\n",
       "0 -627.51  649.33  108.78 -48.0 -77.0 -45.0 -42.0 -75.0 -57.0 -48.0 -41.0   \n",
       "1 -627.51  649.33  101.66 -67.0 -72.0 -71.0 -42.0 -74.0 -59.0 -40.0 -41.0   \n",
       "2 -616.07  648.94   93.54 -55.0 -60.0 -61.0 -50.0 -62.0 -69.0 -68.0 -56.0   \n",
       "\n",
       "    tx9  \n",
       "0 -79.0  \n",
       "1 -81.0  \n",
       "2 -69.0  "
      ]
     },
     "metadata": {},
     "output_type": "display_data"
    },
    {
     "data": {
      "text/plain": [
       "23448"
      ]
     },
     "execution_count": 48,
     "metadata": {},
     "output_type": "execute_result"
    }
   ],
   "source": [
    "CSV_FILE = \"../data/data.csv\"\n",
    "df = pd.read_csv(CSV_FILE)\n",
    "df = df.drop(columns=['t'])\n",
    "df = df.replace(-255.0, np.nan)\n",
    "df = df.interpolate('linear')\n",
    "display(df[:3])\n",
    "len(df)"
   ]
  },
  {
   "cell_type": "code",
   "execution_count": 50,
   "id": "615c71e0-9d2f-41a7-af8d-7e7cf49ca3c6",
   "metadata": {},
   "outputs": [
    {
     "name": "stdout",
     "output_type": "stream",
     "text": [
      "Restoring checkpoint from ../checkpoints/deepar\\ckpt-30\n"
     ]
    }
   ],
   "source": [
    "CHECKPOINT_PATH = \"../checkpoints/deepar\"\n",
    "\n",
    "def restore_model(columns):\n",
    "    model = create_model(dim_x=len(columns[3:]), dim_z=3)\n",
    "    # restore checkpoints if exist\n",
    "    ckpt = tf.train.Checkpoint(model=model)\n",
    "    ckpt_manager = tf.train.CheckpointManager(ckpt, CHECKPOINT_PATH, max_to_keep=100)\n",
    "    if ckpt_manager.latest_checkpoint:\n",
    "        ckpt.restore(ckpt_manager.latest_checkpoint)\n",
    "        print(\"Restoring checkpoint from {}\".format(ckpt_manager.latest_checkpoint))\n",
    "    return model\n",
    "model = restore_model(columns=list(df.columns))"
   ]
  },
  {
   "cell_type": "code",
   "execution_count": 51,
   "id": "725c6001-1e7c-4e20-998a-644772a67850",
   "metadata": {},
   "outputs": [
    {
     "name": "stdout",
     "output_type": "stream",
     "text": [
      "Label Mean: [-119.83717545 -257.40807745   96.94185432]\n",
      "Label Std: [494.07975789 601.04651714   3.41967794]\n",
      "Input Std: [5.89211125 6.54525122 6.01040676 4.90023656 7.0511282  7.15160871\n",
      " 6.25760087 6.56784117 6.97291684]\n",
      "Input Mean: [-58.93321392 -56.77686796 -56.80079324 -59.30079324 -57.95161634\n",
      " -56.86858154 -58.40274224 -60.05452491 -59.07555015]\n",
      "Input Tensor: None\n"
     ]
    }
   ],
   "source": [
    "class DataPreprocessor:\n",
    "    def __init__(self, df, window_size=10):\n",
    "        self.window_size = window_size\n",
    "        self.input_window = []\n",
    "        self.label_window = [] # OPTIONAL\n",
    "        # the historical data used for getting the mean and variance\n",
    "        self.df = df \n",
    "        self.epsilon = 1e-10\n",
    "        mean, std = np.array(df.mean()), np.array(df.std())\n",
    "        self.label_mean, self.label_std = mean[:3], std[:3] + self.epsilon\n",
    "        self.input_mean, self.input_std = mean[3:], std[3:] + self.epsilon\n",
    "    \n",
    "    def add_input(self, data):\n",
    "        # append data to data window\n",
    "        self.input_window.append(data)\n",
    "        # if window size exceed the data window size then\n",
    "        # remove the first data\n",
    "        if len(self.input_window) > self.window_size:\n",
    "            self.input_window = self.input_window[1:]\n",
    "            \n",
    "    def add_label(self, data):\n",
    "        # append data to data window\n",
    "        self.label_window.append(data)\n",
    "        # if window size exceed the data window size then\n",
    "        # remove the first data\n",
    "        if len(self.label_window) > self.window_size:\n",
    "            self.label_window = self.label_window[1:]\n",
    "            \n",
    "    def get_input_tensor(self):\n",
    "        if len(self.input_window) < 1:\n",
    "            return None\n",
    "        norm_input = (np.array(self.input_window) - self.input_mean) / self.input_std\n",
    "        data = tf.convert_to_tensor([norm_input])\n",
    "        # print(data)\n",
    "        return data\n",
    "    \n",
    "    def get_label_tensor(self):\n",
    "        if len(self.label_window) < 1:\n",
    "            return None\n",
    "        norm_input = (np.array(self.label_window) - self.label_mean) / self.label_std\n",
    "        data = tf.convert_to_tensor([norm_input])\n",
    "        # print(data)\n",
    "        return data\n",
    "        \n",
    "    \n",
    "    def summary(self):\n",
    "        print(f'Label Mean: {self.label_mean}')\n",
    "        print(f'Label Std: {self.label_std}')\n",
    "        print(f'Input Std: {self.input_std}')\n",
    "        print(f'Input Mean: {self.input_mean}')\n",
    "        # print(f'Input Data: {self.input_window}')\n",
    "        print(f'Input Tensor: {self.get_input_tensor()}')\n",
    "\n",
    "\n",
    "prep = DataPreprocessor(df=df)\n",
    "prep.summary()"
   ]
  },
  {
   "cell_type": "code",
   "execution_count": 52,
   "id": "bb355049-68ef-4d66-931d-dd8c88c27c1b",
   "metadata": {},
   "outputs": [],
   "source": [
    "def model_plot2D(model, prep, x_offset=0, y_offset=0, warmup_step = 0):\n",
    "    plt.figure(figsize=(20,10))\n",
    "    inputs = prep.get_input_tensor()\n",
    "    labels = prep.get_label_tensor()\n",
    "    means, _ = model(inputs)\n",
    "    mean = (means[0, :] * prep.label_std + prep.label_mean) * 0.01\n",
    "    label = (labels[0, :] * prep.label_std + prep.label_mean) * 0.01\n",
    "    \n",
    "    # Trajectory\n",
    "    plt.scatter(mean[warmup_step:, 0].numpy() + x_offset, mean[warmup_step:, 1].numpy() + y_offset, s=10, marker='x', alpha=0.5)\n",
    "    if labels is not None:\n",
    "        plt.scatter(label[warmup_step:,0].numpy() + x_offset, label[warmup_step:,1].numpy() + y_offset, s=10, marker='.', alpha=0.5)\n",
    "    \n",
    "    # Last Point\n",
    "    plt.scatter(mean[-1, 0].numpy() + x_offset, mean[-1, 1].numpy() + y_offset, s=30, marker='o', color='r')\n",
    "    if labels is not None:\n",
    "        plt.scatter(label[-1, 0].numpy() + x_offset, label[-1, 1].numpy() + y_offset, s=30, marker='x', color='g')\n",
    "\n",
    "        \n",
    "    plt.legend(labels=['Prediction', 'Ground Truth', 'Last Prediction', 'Last Ground Truth'], loc='lower left')\n",
    "    plt.xlabel('X Coordinate (m)')\n",
    "    plt.ylabel('Y Coordinate (m)')\n",
    "    plt.title('Prediction')\n",
    "    plt.axis('equal')\n",
    "    plt.show()\n",
    "    \n",
    "    return mean"
   ]
  },
  {
   "cell_type": "code",
   "execution_count": 54,
   "id": "bb67ee62-66e3-476a-8a13-a8f1f2d3896e",
   "metadata": {},
   "outputs": [
    {
     "data": {
      "image/png": "[encoded data removed]",
      "text/plain": [
       "<Figure size 1440x720 with 1 Axes>"
      ]
     },
     "metadata": {
      "needs_background": "light"
     },
     "output_type": "display_data"
    }
   ],
   "source": [
    "skip = 0\n",
    "count = 200\n",
    "prep = DataPreprocessor(df=df, window_size=300)\n",
    "\n",
    "for index, row in df.iterrows():\n",
    "    if index < skip:\n",
    "        continue\n",
    "    \n",
    "    inputs,labels = list(row)[3:], list(row)[:3] \n",
    "    prep.add_input(inputs)\n",
    "    prep.add_label(labels)\n",
    "    \n",
    "    # preview\n",
    "    count -= 1\n",
    "    if count < 0:\n",
    "        # prep.summary()\n",
    "        model_plot2D(model, prep)\n",
    "        # print(mean[-1, :])\n",
    "        break"
   ]
  },
  {
   "cell_type": "code",
   "execution_count": null,
   "id": "f465dce3-87ef-4a9a-9e06-e5db25d815e8",
   "metadata": {},
   "outputs": [],
   "source": []
  }
 ],
 "metadata": {
  "kernelspec": {
   "display_name": "Python 3",
   "language": "python",
   "name": "python3"
  },
  "language_info": {
   "codemirror_mode": {
    "name": "ipython",
    "version": 3
   },
   "file_extension": ".py",
   "mimetype": "text/x-python",
   "name": "python",
   "nbconvert_exporter": "python",
   "pygments_lexer": "ipython3",
   "version": "3.9.5"
  }
 },
 "nbformat": 4,
 "nbformat_minor": 5
}
