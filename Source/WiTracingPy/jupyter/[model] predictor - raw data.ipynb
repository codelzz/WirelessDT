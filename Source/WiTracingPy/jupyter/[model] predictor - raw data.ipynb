{
 "cells": [
  {
   "cell_type": "markdown",
   "id": "8a848a81-debf-4e04-83fe-56576b75fd44",
   "metadata": {},
   "source": [
    "# Predictor"
   ]
  },
  {
   "cell_type": "code",
   "execution_count": 2,
   "id": "fd007031-31ff-407a-b753-cc22f85d1a1d",
   "metadata": {},
   "outputs": [],
   "source": [
    "import numpy as np\n",
    "import matplotlib.pyplot as plt\n",
    "import seaborn as sns\n",
    "import pandas as pd\n",
    "import tensorflow as tf\n",
    "from tensorflow.keras.preprocessing import timeseries_dataset_from_array\n",
    "\n",
    "import os\n",
    "import sys\n",
    "module_path = os.path.abspath(os.path.join('..'))\n",
    "if module_path not in sys.path:\n",
    "    sys.path.append(module_path)\n",
    "\n",
    "import time\n",
    "import IPython\n",
    "import IPython.display"
   ]
  },
  {
   "cell_type": "code",
   "execution_count": 3,
   "id": "e6e5f1b2-02fc-43ba-a9da-b8309dd41667",
   "metadata": {},
   "outputs": [],
   "source": [
    "from preprocess.data_generator import WindowSplitter\n",
    "from nn.deepar import create_model\n",
    "from preprocess.data_generator import DatasetGenerator"
   ]
  },
  {
   "cell_type": "code",
   "execution_count": 4,
   "id": "6a099be0-f3b5-48f9-b146-539490b59d18",
   "metadata": {},
   "outputs": [],
   "source": [
    "from dl.predictor import Predictor"
   ]
  },
  {
   "cell_type": "code",
   "execution_count": 5,
   "id": "a8968f56-048d-41b7-9bdf-663e96b93311",
   "metadata": {},
   "outputs": [],
   "source": [
    "HISTORICAL_CSV_FILE = \"../data/data.csv\"\n",
    "RAW_CSV_FILE = '../data/preprocessed_data.csv'\n",
    "MODEL_CHECKPOINT_PATH = \"../checkpoints/deepar\""
   ]
  },
  {
   "cell_type": "markdown",
   "id": "392715ea-0864-41f6-a553-f67d5344c21e",
   "metadata": {},
   "source": [
    "### Predictor"
   ]
  },
  {
   "cell_type": "code",
   "execution_count": 6,
   "id": "0eb86db6-cb52-496b-80c7-dbbc29eae11b",
   "metadata": {},
   "outputs": [
    {
     "data": {
      "text/html": [
       "<div>\n",
       "<style scoped>\n",
       "    .dataframe tbody tr th:only-of-type {\n",
       "        vertical-align: middle;\n",
       "    }\n",
       "\n",
       "    .dataframe tbody tr th {\n",
       "        vertical-align: top;\n",
       "    }\n",
       "\n",
       "    .dataframe thead th {\n",
       "        text-align: right;\n",
       "    }\n",
       "</style>\n",
       "<table border=\"1\" class=\"dataframe\">\n",
       "  <thead>\n",
       "    <tr style=\"text-align: right;\">\n",
       "      <th></th>\n",
       "      <th>t</th>\n",
       "      <th>x</th>\n",
       "      <th>y</th>\n",
       "      <th>z</th>\n",
       "      <th>tx1</th>\n",
       "      <th>tx2</th>\n",
       "      <th>tx3</th>\n",
       "      <th>tx4</th>\n",
       "      <th>tx5</th>\n",
       "      <th>tx6</th>\n",
       "      <th>tx7</th>\n",
       "      <th>tx8</th>\n",
       "      <th>tx9</th>\n",
       "    </tr>\n",
       "  </thead>\n",
       "  <tbody>\n",
       "    <tr>\n",
       "      <th>0</th>\n",
       "      <td>1.666162e+12</td>\n",
       "      <td>-627.51</td>\n",
       "      <td>649.33</td>\n",
       "      <td>108.78</td>\n",
       "      <td>-48.0</td>\n",
       "      <td>-77.0</td>\n",
       "      <td>-45.0</td>\n",
       "      <td>-42.0</td>\n",
       "      <td>-75.0</td>\n",
       "      <td>-57.0</td>\n",
       "      <td>-48.0</td>\n",
       "      <td>-41.0</td>\n",
       "      <td>-79.0</td>\n",
       "    </tr>\n",
       "    <tr>\n",
       "      <th>1</th>\n",
       "      <td>1.666162e+12</td>\n",
       "      <td>-627.51</td>\n",
       "      <td>649.33</td>\n",
       "      <td>101.66</td>\n",
       "      <td>-67.0</td>\n",
       "      <td>-72.0</td>\n",
       "      <td>-71.0</td>\n",
       "      <td>-42.0</td>\n",
       "      <td>-74.0</td>\n",
       "      <td>-59.0</td>\n",
       "      <td>-40.0</td>\n",
       "      <td>-41.0</td>\n",
       "      <td>-81.0</td>\n",
       "    </tr>\n",
       "    <tr>\n",
       "      <th>2</th>\n",
       "      <td>1.666162e+12</td>\n",
       "      <td>-616.07</td>\n",
       "      <td>648.94</td>\n",
       "      <td>93.54</td>\n",
       "      <td>-55.0</td>\n",
       "      <td>-60.0</td>\n",
       "      <td>-61.0</td>\n",
       "      <td>-50.0</td>\n",
       "      <td>-62.0</td>\n",
       "      <td>-69.0</td>\n",
       "      <td>-68.0</td>\n",
       "      <td>-56.0</td>\n",
       "      <td>-69.0</td>\n",
       "    </tr>\n",
       "  </tbody>\n",
       "</table>\n",
       "</div>"
      ],
      "text/plain": [
       "              t       x       y       z   tx1   tx2   tx3   tx4   tx5   tx6  \\\n",
       "0  1.666162e+12 -627.51  649.33  108.78 -48.0 -77.0 -45.0 -42.0 -75.0 -57.0   \n",
       "1  1.666162e+12 -627.51  649.33  101.66 -67.0 -72.0 -71.0 -42.0 -74.0 -59.0   \n",
       "2  1.666162e+12 -616.07  648.94   93.54 -55.0 -60.0 -61.0 -50.0 -62.0 -69.0   \n",
       "\n",
       "    tx7   tx8   tx9  \n",
       "0 -48.0 -41.0 -79.0  \n",
       "1 -40.0 -41.0 -81.0  \n",
       "2 -68.0 -56.0 -69.0  "
      ]
     },
     "metadata": {},
     "output_type": "display_data"
    },
    {
     "data": {
      "text/plain": [
       "23448"
      ]
     },
     "execution_count": 6,
     "metadata": {},
     "output_type": "execute_result"
    }
   ],
   "source": [
    "historical_df = pd.read_csv(HISTORICAL_CSV_FILE)\n",
    "display(historical_df[:3])\n",
    "len(historical_df)"
   ]
  },
  {
   "cell_type": "code",
   "execution_count": 15,
   "id": "3d8acd4c-1411-49f0-90c7-598d077d0826",
   "metadata": {},
   "outputs": [
    {
     "name": "stdout",
     "output_type": "stream",
     "text": [
      "Restoring checkpoint from ../checkpoints/deepar\\ckpt-30\n",
      "COLUMNS: Index(['x', 'y', 'z', 'tx1', 'tx2', 'tx3', 'tx4', 'tx5', 'tx6', 'tx7', 'tx8',\n",
      "       'tx9'],\n",
      "      dtype='object')\n",
      "MEAN: [-119.83717545206413, -257.4081171102013, 96.94185431593313, -68.088109860116, -189.01637666325487, -193.11007335380415, -196.9968440805186, -195.1737888092801, -192.27921357898327, -199.03428863868987, -193.91837256908906, -195.74965881951553]\n",
      "STD:  [494.0797578874097, 601.0465169470805, 3.4196779383138405, 41.791069043961066, 93.48240489653595, 91.9112091027444, 89.43711940090556, 90.67251020902395, 92.21739891407908, 88.80841967195245, 90.5270596992318, 90.09811034941605]\n",
      "LABEL SIZE:  3\n",
      "INPUT SIZE:  9\n",
      "RAW MEASUREMENT: {'tx1': [], 'tx2': [], 'tx3': [], 'tx4': [], 'tx5': [], 'tx6': [], 'tx7': [], 'tx8': [], 'tx9': []}\n",
      "MAX WINDOW SIZE: 300\n"
     ]
    }
   ],
   "source": [
    "class Predictor:\n",
    "    def __init__(self, historical_df, checkpoint=MODEL_CHECKPOINT_PATH, max_window_size=300):\n",
    "        self.historical_df = historical_df.drop(columns=['t'])\n",
    "        self.epsilon = 1e-10\n",
    "        self.mean = self.historical_df.mean()\n",
    "        self.std = self.historical_df.std() + self.epsilon\n",
    "        self.label_size = 3\n",
    "        self.input_size = len(self.historical_df.columns[self.label_size:])\n",
    "        self.columns = self.historical_df.columns\n",
    "        self.measurement = {}\n",
    "        self.init_measurement()\n",
    "        self.max_window_size = max_window_size\n",
    "        # model\n",
    "        self.checkpoint = checkpoint\n",
    "        self.model = None\n",
    "        self.load_model()\n",
    "\n",
    "    def summary(self):\n",
    "        print('COLUMNS:', self.columns)\n",
    "        print('MEAN:', list(self.mean))\n",
    "        print('STD: ', list(self.std))\n",
    "        print('LABEL SIZE: ', self.label_size)\n",
    "        print('INPUT SIZE: ', self.input_size)\n",
    "        print('RAW MEASUREMENT:', self.measurement)\n",
    "        print('MAX WINDOW SIZE:', self.max_window_size)\n",
    "        \n",
    "    def init_measurement(self):\n",
    "        for column in self.columns[self.label_size:]:\n",
    "            self.measurement[column] = []\n",
    "        \n",
    "    def add_measurement(self, tx, rssi):\n",
    "        if tx in self.measurement.keys():\n",
    "            self.measurement[tx].append(rssi)\n",
    "            if len(self.measurement[tx]) > self.max_window_size:\n",
    "                self.measurement[tx] = self.measurement[tx][1:]\n",
    "                \n",
    "    def gen_input_seq(self):\n",
    "        df = pd.DataFrame.from_dict(self.measurement)\n",
    "        # normalize\n",
    "        df = (df - self.mean[self.label_size:]) / self.std[self.label_size:]\n",
    "        return tf.convert_to_tensor([df.to_numpy()])\n",
    "    \n",
    "    def load_model(self):\n",
    "        self.model = create_model(dim_x=self.input_size, dim_z=self.label_size)\n",
    "        # restore checkpoints if exist\n",
    "        ckpt = tf.train.Checkpoint(model=self.model)\n",
    "        ckpt_manager = tf.train.CheckpointManager(ckpt, self.checkpoint, max_to_keep=100)\n",
    "        if ckpt_manager.latest_checkpoint:\n",
    "            ckpt.restore(ckpt_manager.latest_checkpoint)\n",
    "            print(\"Restoring checkpoint from {}\".format(ckpt_manager.latest_checkpoint))\n",
    "\n",
    "    def predict(self):\n",
    "        inputs = self.gen_input_seq()\n",
    "        mean, _ = self.model(inputs)\n",
    "        return mean * self.std[:self.label_size] + self.mean[:self.label_size]\n",
    "            \n",
    "predictor = Predictor(historical_df=historical_df)\n",
    "predictor.summary()"
   ]
  },
  {
   "cell_type": "markdown",
   "id": "fa0f5fe4-db60-491d-b5dd-52027e6d0792",
   "metadata": {},
   "source": [
    "### Simulator"
   ]
  },
  {
   "cell_type": "code",
   "execution_count": 8,
   "id": "c7b7ef4d-9182-4063-abaf-38c44b537ee3",
   "metadata": {},
   "outputs": [],
   "source": [
    "class World:\n",
    "    def __init__(self, raw_df, predictor):\n",
    "        self.raw_df = raw_df\n",
    "        self.raw_df_size = len(self.raw_df)\n",
    "        self.raw_df_iter = 0\n",
    "        self.predictor = predictor\n",
    "        self.label = []\n",
    "        \n",
    "    def get_measurement(self):\n",
    "        if self.raw_df_iter > self.raw_df_size:\n",
    "            return\n",
    "        measurement = self.raw_df.iloc[[self.raw_df_iter]].values[0]\n",
    "        self.raw_df_iter+=1\n",
    "        tx = measurement[0]\n",
    "        rssi = measurement[4]\n",
    "        \n",
    "        # add ground true\n",
    "        last = None\n",
    "        if len(self.label) > 0:\n",
    "            last = self.label[-1]\n",
    "        current = measurement[1:4]\n",
    "        if (last != current).any():\n",
    "            self.label.append(current)\n",
    "            \n",
    "        return tx.lower(), rssi\n",
    "    \n",
    "    def get_label(self):\n",
    "        return np.array(self.label)\n",
    "    \n",
    "    def step(self):\n",
    "        tx, rssi = self.get_measurement()\n",
    "        predictor.add_measurement(tx, rssi)"
   ]
  },
  {
   "cell_type": "code",
   "execution_count": 26,
   "id": "5a93ef91-a59d-4151-8b0c-64af9a98ab8b",
   "metadata": {},
   "outputs": [
    {
     "name": "stdout",
     "output_type": "stream",
     "text": [
      "Restoring checkpoint from ../checkpoints/deepar\\ckpt-30\n"
     ]
    }
   ],
   "source": [
    "raw_df = pd.read_csv(RAW_CSV_FILE)\n",
    "# predictor = Predictor(on_predict=None, historical_csv_path=HISTORICAL_CSV_FILE, checkpoint=MODEL_CHECKPOINT_PATH, max_window_size=100)\n",
    "predictor = Predictor(historical_df=historical_df)\n",
    "world = World(raw_df=raw_df, predictor=predictor)\n",
    "for i in range(9 * 500):\n",
    "    world.step()"
   ]
  },
  {
   "cell_type": "code",
   "execution_count": 27,
   "id": "a6a76e65-ab50-4848-9db2-21ee6d8d5993",
   "metadata": {},
   "outputs": [
    {
     "name": "stdout",
     "output_type": "stream",
     "text": [
      "tx1 300\n",
      "tx2 300\n",
      "tx3 300\n",
      "tx4 300\n",
      "tx5 300\n",
      "tx6 300\n",
      "tx7 300\n",
      "tx8 300\n",
      "tx9 300\n"
     ]
    }
   ],
   "source": [
    "for k, v in predictor.measurement.items():\n",
    "    print(k, len(v))"
   ]
  },
  {
   "cell_type": "code",
   "execution_count": 34,
   "id": "19f9d3ec-cbe6-43e3-b8ec-63683821a3aa",
   "metadata": {},
   "outputs": [],
   "source": [
    "result = predictor.predict()[0]\n",
    "label = world.get_label()"
   ]
  },
  {
   "cell_type": "code",
   "execution_count": 35,
   "id": "125d6cde-ff65-4590-85b3-7d6b6d760c67",
   "metadata": {},
   "outputs": [
    {
     "data": {
      "image/png": "[encoded data removed]",
      "text/plain": [
       "<Figure size 1440x720 with 1 Axes>"
      ]
     },
     "metadata": {
      "needs_background": "light"
     },
     "output_type": "display_data"
    }
   ],
   "source": [
    "plt.figure(figsize=(20,10))\n",
    "pred_len = len(result)\n",
    "plt.scatter(result[:, 0].numpy(), result[:, 1].numpy(), s=10, marker='x', alpha=0.5)\n",
    "plt.scatter(label[-pred_len:, 0], label[-pred_len:, 1], s=10, marker='o', alpha=0.5)\n",
    "plt.scatter(result[-1, 0].numpy(), result[-1, 1].numpy(), s=50, marker='x', color='r', alpha=1)\n",
    "plt.scatter(label[-1, 0], label[-1, 1], s=50, marker='o', color='g', alpha=1)\n",
    "plt.xlabel('X Coordinate (cm)')\n",
    "plt.ylabel('Y Coordinate (cm)')\n",
    "plt.show()"
   ]
  },
  {
   "cell_type": "code",
   "execution_count": null,
   "id": "8a54b63b-9cee-4354-964e-2549c1a5331d",
   "metadata": {},
   "outputs": [],
   "source": []
  }
 ],
 "metadata": {
  "kernelspec": {
   "display_name": "Python 3",
   "language": "python",
   "name": "python3"
  },
  "language_info": {
   "codemirror_mode": {
    "name": "ipython",
    "version": 3
   },
   "file_extension": ".py",
   "mimetype": "text/x-python",
   "name": "python",
   "nbconvert_exporter": "python",
   "pygments_lexer": "ipython3",
   "version": "3.9.5"
  }
 },
 "nbformat": 4,
 "nbformat_minor": 5
}
