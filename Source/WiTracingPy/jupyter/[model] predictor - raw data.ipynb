{
 "cells": [
  {
   "cell_type": "markdown",
   "id": "8a848a81-debf-4e04-83fe-56576b75fd44",
   "metadata": {},
   "source": [
    "# Predictor"
   ]
  },
  {
   "cell_type": "code",
   "execution_count": 1,
   "id": "fd007031-31ff-407a-b753-cc22f85d1a1d",
   "metadata": {},
   "outputs": [],
   "source": [
    "import numpy as np\n",
    "import matplotlib.pyplot as plt\n",
    "import seaborn as sns\n",
    "import pandas as pd\n",
    "import tensorflow as tf\n",
    "from tensorflow.keras.preprocessing import timeseries_dataset_from_array\n",
    "\n",
    "import os\n",
    "import sys\n",
    "module_path = os.path.abspath(os.path.join('..'))\n",
    "if module_path not in sys.path:\n",
    "    sys.path.append(module_path)\n",
    "\n",
    "import time\n",
    "import IPython\n",
    "import IPython.display"
   ]
  },
  {
   "cell_type": "code",
   "execution_count": 2,
   "id": "e6e5f1b2-02fc-43ba-a9da-b8309dd41667",
   "metadata": {},
   "outputs": [],
   "source": [
    "from preprocess.data_generator import WindowSplitter\n",
    "from nn.deepar import create_model\n",
    "from preprocess.data_generator import DatasetGenerator"
   ]
  },
  {
   "cell_type": "code",
   "execution_count": 3,
   "id": "6a099be0-f3b5-48f9-b146-539490b59d18",
   "metadata": {},
   "outputs": [],
   "source": [
    "from dl.predictor import Predictor"
   ]
  },
  {
   "cell_type": "code",
   "execution_count": 4,
   "id": "a8968f56-048d-41b7-9bdf-663e96b93311",
   "metadata": {},
   "outputs": [],
   "source": [
    "HISTORICAL_CSV_FILE = \"../data/data.csv\"\n",
    "RAW_CSV_FILE = '../data/preprocessed_data.csv'\n",
    "MODEL_CHECKPOINT_PATH = \"../checkpoints/deepar\""
   ]
  },
  {
   "cell_type": "markdown",
   "id": "392715ea-0864-41f6-a553-f67d5344c21e",
   "metadata": {},
   "source": [
    "### Predictor"
   ]
  },
  {
   "cell_type": "code",
   "execution_count": 5,
   "id": "0eb86db6-cb52-496b-80c7-dbbc29eae11b",
   "metadata": {},
   "outputs": [
    {
     "data": {
      "text/html": [
       "<div>\n",
       "<style scoped>\n",
       "    .dataframe tbody tr th:only-of-type {\n",
       "        vertical-align: middle;\n",
       "    }\n",
       "\n",
       "    .dataframe tbody tr th {\n",
       "        vertical-align: top;\n",
       "    }\n",
       "\n",
       "    .dataframe thead th {\n",
       "        text-align: right;\n",
       "    }\n",
       "</style>\n",
       "<table border=\"1\" class=\"dataframe\">\n",
       "  <thead>\n",
       "    <tr style=\"text-align: right;\">\n",
       "      <th></th>\n",
       "      <th>t</th>\n",
       "      <th>x</th>\n",
       "      <th>y</th>\n",
       "      <th>z</th>\n",
       "      <th>tx1</th>\n",
       "      <th>tx2</th>\n",
       "      <th>tx3</th>\n",
       "      <th>tx4</th>\n",
       "      <th>tx5</th>\n",
       "      <th>tx6</th>\n",
       "      <th>...</th>\n",
       "      <th>tx16</th>\n",
       "      <th>tx17</th>\n",
       "      <th>tx18</th>\n",
       "      <th>tx19</th>\n",
       "      <th>tx20</th>\n",
       "      <th>tx21</th>\n",
       "      <th>tx22</th>\n",
       "      <th>tx23</th>\n",
       "      <th>tx24</th>\n",
       "      <th>tx25</th>\n",
       "    </tr>\n",
       "  </thead>\n",
       "  <tbody>\n",
       "    <tr>\n",
       "      <th>0</th>\n",
       "      <td>1.667897e+12</td>\n",
       "      <td>750.02</td>\n",
       "      <td>598.52</td>\n",
       "      <td>94.50</td>\n",
       "      <td>-55.0</td>\n",
       "      <td>-62.0</td>\n",
       "      <td>-67.0</td>\n",
       "      <td>-63.0</td>\n",
       "      <td>-66.0</td>\n",
       "      <td>-69.0</td>\n",
       "      <td>...</td>\n",
       "      <td>-74.0</td>\n",
       "      <td>-72.0</td>\n",
       "      <td>-70.0</td>\n",
       "      <td>-69.0</td>\n",
       "      <td>-68.0</td>\n",
       "      <td>-67.0</td>\n",
       "      <td>-57.0</td>\n",
       "      <td>-53.0</td>\n",
       "      <td>-73.0</td>\n",
       "      <td>-61.0</td>\n",
       "    </tr>\n",
       "    <tr>\n",
       "      <th>1</th>\n",
       "      <td>1.667897e+12</td>\n",
       "      <td>759.46</td>\n",
       "      <td>579.46</td>\n",
       "      <td>94.11</td>\n",
       "      <td>-55.0</td>\n",
       "      <td>-63.0</td>\n",
       "      <td>-67.0</td>\n",
       "      <td>-63.0</td>\n",
       "      <td>-66.0</td>\n",
       "      <td>-68.0</td>\n",
       "      <td>...</td>\n",
       "      <td>-77.0</td>\n",
       "      <td>-72.0</td>\n",
       "      <td>-66.0</td>\n",
       "      <td>-71.0</td>\n",
       "      <td>-57.0</td>\n",
       "      <td>-68.0</td>\n",
       "      <td>-62.0</td>\n",
       "      <td>-56.0</td>\n",
       "      <td>-74.0</td>\n",
       "      <td>-62.0</td>\n",
       "    </tr>\n",
       "    <tr>\n",
       "      <th>2</th>\n",
       "      <td>1.667897e+12</td>\n",
       "      <td>770.00</td>\n",
       "      <td>559.05</td>\n",
       "      <td>94.94</td>\n",
       "      <td>-56.0</td>\n",
       "      <td>-62.0</td>\n",
       "      <td>-60.0</td>\n",
       "      <td>-62.0</td>\n",
       "      <td>-58.0</td>\n",
       "      <td>-48.0</td>\n",
       "      <td>...</td>\n",
       "      <td>-74.0</td>\n",
       "      <td>-71.0</td>\n",
       "      <td>-47.0</td>\n",
       "      <td>-70.0</td>\n",
       "      <td>-60.0</td>\n",
       "      <td>-65.0</td>\n",
       "      <td>-61.0</td>\n",
       "      <td>-51.0</td>\n",
       "      <td>-73.0</td>\n",
       "      <td>-62.0</td>\n",
       "    </tr>\n",
       "  </tbody>\n",
       "</table>\n",
       "<p>3 rows × 29 columns</p>\n",
       "</div>"
      ],
      "text/plain": [
       "              t       x       y      z   tx1   tx2   tx3   tx4   tx5   tx6  \\\n",
       "0  1.667897e+12  750.02  598.52  94.50 -55.0 -62.0 -67.0 -63.0 -66.0 -69.0   \n",
       "1  1.667897e+12  759.46  579.46  94.11 -55.0 -63.0 -67.0 -63.0 -66.0 -68.0   \n",
       "2  1.667897e+12  770.00  559.05  94.94 -56.0 -62.0 -60.0 -62.0 -58.0 -48.0   \n",
       "\n",
       "   ...  tx16  tx17  tx18  tx19  tx20  tx21  tx22  tx23  tx24  tx25  \n",
       "0  ... -74.0 -72.0 -70.0 -69.0 -68.0 -67.0 -57.0 -53.0 -73.0 -61.0  \n",
       "1  ... -77.0 -72.0 -66.0 -71.0 -57.0 -68.0 -62.0 -56.0 -74.0 -62.0  \n",
       "2  ... -74.0 -71.0 -47.0 -70.0 -60.0 -65.0 -61.0 -51.0 -73.0 -62.0  \n",
       "\n",
       "[3 rows x 29 columns]"
      ]
     },
     "metadata": {},
     "output_type": "display_data"
    },
    {
     "data": {
      "text/plain": [
       "16936"
      ]
     },
     "execution_count": 5,
     "metadata": {},
     "output_type": "execute_result"
    }
   ],
   "source": [
    "historical_df = pd.read_csv(HISTORICAL_CSV_FILE)\n",
    "display(historical_df[:3])\n",
    "len(historical_df)"
   ]
  },
  {
   "cell_type": "code",
   "execution_count": 6,
   "id": "3d8acd4c-1411-49f0-90c7-598d077d0826",
   "metadata": {},
   "outputs": [
    {
     "name": "stdout",
     "output_type": "stream",
     "text": [
      "Restoring checkpoint from ../checkpoints/deepar\\ckpt-89\n",
      "COLUMNS: Index(['x', 'y', 'z', 'tx1', 'tx2', 'tx3', 'tx4', 'tx5', 'tx6', 'tx7', 'tx8',\n",
      "       'tx9', 'tx10', 'tx11', 'tx12', 'tx13', 'tx14', 'tx15', 'tx16', 'tx17',\n",
      "       'tx18', 'tx19', 'tx20', 'tx21', 'tx22', 'tx23', 'tx24', 'tx25'],\n",
      "      dtype='object')\n",
      "MEAN: [-39.31665151157298, -13.787049480396787, 98.34586974492206, -67.24563060935286, -181.3551606046292, -196.39354038734058, -199.06819792158714, -198.88137694851204, -197.6956778460085, -199.49391828058575, -196.68209730751062, -200.4466225791214, -199.78938356164383, -200.86637931034483, -198.23517949929146, -200.75986065186584, -200.548535663675, -199.28826169107228, -200.13804912612187, -200.81099433160134, -200.7686584789797, -200.68800188946622, -201.87346480869155, -203.29463863958432, -201.47537789324517, -202.4958667926311, -203.7778696268304, -202.91585970713274]\n",
      "STD:  [525.4834934166739, 519.4598867822032, 2.805543258091719, 24.798604416990003, 92.41645728529215, 87.65265752076562, 86.47263996635763, 86.74379798421617, 86.4630961326842, 86.74013307795795, 87.55189356184789, 86.11231045349328, 85.83212022778119, 84.91528581001451, 86.22846188944625, 85.233829490472, 86.01109921578033, 85.88849848629329, 85.40242508096371, 85.11478208227477, 85.44613830465734, 85.01286010577547, 84.59886131628778, 83.85674998160238, 85.38083003323345, 84.20611029831116, 83.50651093840841, 84.03904188524581]\n",
      "LABEL SIZE:  3\n",
      "INPUT SIZE:  25\n",
      "RAW MEASUREMENT: {'tx1': [], 'tx2': [], 'tx3': [], 'tx4': [], 'tx5': [], 'tx6': [], 'tx7': [], 'tx8': [], 'tx9': [], 'tx10': [], 'tx11': [], 'tx12': [], 'tx13': [], 'tx14': [], 'tx15': [], 'tx16': [], 'tx17': [], 'tx18': [], 'tx19': [], 'tx20': [], 'tx21': [], 'tx22': [], 'tx23': [], 'tx24': [], 'tx25': []}\n",
      "MAX WINDOW SIZE: 300\n"
     ]
    }
   ],
   "source": [
    "class Predictor:\n",
    "    def __init__(self, historical_df, checkpoint=MODEL_CHECKPOINT_PATH, max_window_size=300):\n",
    "        self.historical_df = historical_df.drop(columns=['t'])\n",
    "        self.epsilon = 1e-10\n",
    "        self.mean = self.historical_df.mean()\n",
    "        self.std = self.historical_df.std() + self.epsilon\n",
    "        self.label_size = 3\n",
    "        self.input_size = len(self.historical_df.columns[self.label_size:])\n",
    "        self.columns = self.historical_df.columns\n",
    "        self.measurement = {}\n",
    "        self.init_measurement()\n",
    "        self.max_window_size = max_window_size\n",
    "        # model\n",
    "        self.checkpoint = checkpoint\n",
    "        self.model = None\n",
    "        self.load_model()\n",
    "\n",
    "    def summary(self):\n",
    "        print('COLUMNS:', self.columns)\n",
    "        print('MEAN:', list(self.mean))\n",
    "        print('STD: ', list(self.std))\n",
    "        print('LABEL SIZE: ', self.label_size)\n",
    "        print('INPUT SIZE: ', self.input_size)\n",
    "        print('RAW MEASUREMENT:', self.measurement)\n",
    "        print('MAX WINDOW SIZE:', self.max_window_size)\n",
    "        \n",
    "    def init_measurement(self):\n",
    "        for column in self.columns[self.label_size:]:\n",
    "            self.measurement[column] = []\n",
    "        \n",
    "    def add_measurement(self, tx, rssi):\n",
    "        if tx in self.measurement.keys():\n",
    "            self.measurement[tx].append(rssi)\n",
    "            if len(self.measurement[tx]) > self.max_window_size:\n",
    "                self.measurement[tx] = self.measurement[tx][1:]\n",
    "                \n",
    "    def gen_input_seq(self):\n",
    "        df = pd.DataFrame.from_dict(self.measurement)\n",
    "        # normalize\n",
    "        df = (df - self.mean[self.label_size:]) / self.std[self.label_size:]\n",
    "        return tf.convert_to_tensor([df.to_numpy()])\n",
    "    \n",
    "    def load_model(self):\n",
    "        self.model = create_model(dim_x=self.input_size, dim_z=self.label_size)\n",
    "        # restore checkpoints if exist\n",
    "        ckpt = tf.train.Checkpoint(model=self.model)\n",
    "        ckpt_manager = tf.train.CheckpointManager(ckpt, self.checkpoint, max_to_keep=100)\n",
    "        if ckpt_manager.latest_checkpoint:\n",
    "            ckpt.restore(ckpt_manager.latest_checkpoint)\n",
    "            print(\"Restoring checkpoint from {}\".format(ckpt_manager.latest_checkpoint))\n",
    "\n",
    "    def predict(self):\n",
    "        inputs = self.gen_input_seq()\n",
    "        mean, _ = self.model(inputs)\n",
    "        return mean * self.std[:self.label_size] + self.mean[:self.label_size]\n",
    "            \n",
    "predictor = Predictor(historical_df=historical_df)\n",
    "predictor.summary()"
   ]
  },
  {
   "cell_type": "markdown",
   "id": "fa0f5fe4-db60-491d-b5dd-52027e6d0792",
   "metadata": {},
   "source": [
    "### Simulator"
   ]
  },
  {
   "cell_type": "code",
   "execution_count": 7,
   "id": "c7b7ef4d-9182-4063-abaf-38c44b537ee3",
   "metadata": {},
   "outputs": [],
   "source": [
    "class World:\n",
    "    def __init__(self, raw_df, predictor):\n",
    "        self.raw_df = raw_df\n",
    "        self.raw_df_size = len(self.raw_df)\n",
    "        self.raw_df_iter = 0\n",
    "        self.predictor = predictor\n",
    "        self.label = []\n",
    "        \n",
    "    def get_measurement(self):\n",
    "        if self.raw_df_iter > self.raw_df_size:\n",
    "            return\n",
    "        measurement = self.raw_df.iloc[[self.raw_df_iter]].values[0]\n",
    "        self.raw_df_iter+=1\n",
    "        tx = measurement[0]\n",
    "        rssi = measurement[4]\n",
    "        \n",
    "        # add ground true\n",
    "        last = None\n",
    "        if len(self.label) > 0:\n",
    "            last = self.label[-1]\n",
    "        current = measurement[1:4]\n",
    "        if (last != current).any():\n",
    "            self.label.append(current)\n",
    "            \n",
    "        return tx.lower(), rssi\n",
    "    \n",
    "    def get_label(self):\n",
    "        return np.array(self.label)\n",
    "    \n",
    "    def step(self):\n",
    "        tx, rssi = self.get_measurement()\n",
    "        predictor.add_measurement(tx, rssi)"
   ]
  },
  {
   "cell_type": "code",
   "execution_count": 8,
   "id": "5a93ef91-a59d-4151-8b0c-64af9a98ab8b",
   "metadata": {},
   "outputs": [
    {
     "name": "stdout",
     "output_type": "stream",
     "text": [
      "Restoring checkpoint from ../checkpoints/deepar\\ckpt-89\n"
     ]
    }
   ],
   "source": [
    "raw_df = pd.read_csv(RAW_CSV_FILE)\n",
    "# predictor = Predictor(on_predict=None, historical_csv_path=HISTORICAL_CSV_FILE, checkpoint=MODEL_CHECKPOINT_PATH, max_window_size=100)\n",
    "predictor = Predictor(historical_df=historical_df)\n",
    "world = World(raw_df=raw_df, predictor=predictor)\n",
    "for i in range(9 * 500):\n",
    "    world.step()"
   ]
  },
  {
   "cell_type": "code",
   "execution_count": 9,
   "id": "a6a76e65-ab50-4848-9db2-21ee6d8d5993",
   "metadata": {},
   "outputs": [
    {
     "name": "stdout",
     "output_type": "stream",
     "text": [
      "tx1 300\n",
      "tx2 201\n",
      "tx3 185\n",
      "tx4 171\n",
      "tx5 187\n",
      "tx6 166\n",
      "tx7 175\n",
      "tx8 178\n",
      "tx9 174\n",
      "tx10 168\n",
      "tx11 170\n",
      "tx12 195\n",
      "tx13 161\n",
      "tx14 167\n",
      "tx15 173\n",
      "tx16 179\n",
      "tx17 166\n",
      "tx18 174\n",
      "tx19 170\n",
      "tx20 172\n",
      "tx21 141\n",
      "tx22 146\n",
      "tx23 157\n",
      "tx24 142\n",
      "tx25 131\n"
     ]
    }
   ],
   "source": [
    "for k, v in predictor.measurement.items():\n",
    "    print(k, len(v))"
   ]
  },
  {
   "cell_type": "code",
   "execution_count": 10,
   "id": "19f9d3ec-cbe6-43e3-b8ec-63683821a3aa",
   "metadata": {},
   "outputs": [
    {
     "ename": "ValueError",
     "evalue": "arrays must all be same length",
     "output_type": "error",
     "traceback": [
      "\u001b[1;31m---------------------------------------------------------------------------\u001b[0m",
      "\u001b[1;31mValueError\u001b[0m                                Traceback (most recent call last)",
      "\u001b[1;32m<ipython-input-10-b5a71d73e281>\u001b[0m in \u001b[0;36m<module>\u001b[1;34m\u001b[0m\n\u001b[1;32m----> 1\u001b[1;33m \u001b[0mresult\u001b[0m \u001b[1;33m=\u001b[0m \u001b[0mpredictor\u001b[0m\u001b[1;33m.\u001b[0m\u001b[0mpredict\u001b[0m\u001b[1;33m(\u001b[0m\u001b[1;33m)\u001b[0m\u001b[1;33m[\u001b[0m\u001b[1;36m0\u001b[0m\u001b[1;33m]\u001b[0m\u001b[1;33m\u001b[0m\u001b[1;33m\u001b[0m\u001b[0m\n\u001b[0m\u001b[0;32m      2\u001b[0m \u001b[0mlabel\u001b[0m \u001b[1;33m=\u001b[0m \u001b[0mworld\u001b[0m\u001b[1;33m.\u001b[0m\u001b[0mget_label\u001b[0m\u001b[1;33m(\u001b[0m\u001b[1;33m)\u001b[0m\u001b[1;33m\u001b[0m\u001b[1;33m\u001b[0m\u001b[0m\n",
      "\u001b[1;32m<ipython-input-6-5b4375672bf1>\u001b[0m in \u001b[0;36mpredict\u001b[1;34m(self)\u001b[0m\n\u001b[0;32m     51\u001b[0m \u001b[1;33m\u001b[0m\u001b[0m\n\u001b[0;32m     52\u001b[0m     \u001b[1;32mdef\u001b[0m \u001b[0mpredict\u001b[0m\u001b[1;33m(\u001b[0m\u001b[0mself\u001b[0m\u001b[1;33m)\u001b[0m\u001b[1;33m:\u001b[0m\u001b[1;33m\u001b[0m\u001b[1;33m\u001b[0m\u001b[0m\n\u001b[1;32m---> 53\u001b[1;33m         \u001b[0minputs\u001b[0m \u001b[1;33m=\u001b[0m \u001b[0mself\u001b[0m\u001b[1;33m.\u001b[0m\u001b[0mgen_input_seq\u001b[0m\u001b[1;33m(\u001b[0m\u001b[1;33m)\u001b[0m\u001b[1;33m\u001b[0m\u001b[1;33m\u001b[0m\u001b[0m\n\u001b[0m\u001b[0;32m     54\u001b[0m         \u001b[0mmean\u001b[0m\u001b[1;33m,\u001b[0m \u001b[0m_\u001b[0m \u001b[1;33m=\u001b[0m \u001b[0mself\u001b[0m\u001b[1;33m.\u001b[0m\u001b[0mmodel\u001b[0m\u001b[1;33m(\u001b[0m\u001b[0minputs\u001b[0m\u001b[1;33m)\u001b[0m\u001b[1;33m\u001b[0m\u001b[1;33m\u001b[0m\u001b[0m\n\u001b[0;32m     55\u001b[0m         \u001b[1;32mreturn\u001b[0m \u001b[0mmean\u001b[0m \u001b[1;33m*\u001b[0m \u001b[0mself\u001b[0m\u001b[1;33m.\u001b[0m\u001b[0mstd\u001b[0m\u001b[1;33m[\u001b[0m\u001b[1;33m:\u001b[0m\u001b[0mself\u001b[0m\u001b[1;33m.\u001b[0m\u001b[0mlabel_size\u001b[0m\u001b[1;33m]\u001b[0m \u001b[1;33m+\u001b[0m \u001b[0mself\u001b[0m\u001b[1;33m.\u001b[0m\u001b[0mmean\u001b[0m\u001b[1;33m[\u001b[0m\u001b[1;33m:\u001b[0m\u001b[0mself\u001b[0m\u001b[1;33m.\u001b[0m\u001b[0mlabel_size\u001b[0m\u001b[1;33m]\u001b[0m\u001b[1;33m\u001b[0m\u001b[1;33m\u001b[0m\u001b[0m\n",
      "\u001b[1;32m<ipython-input-6-5b4375672bf1>\u001b[0m in \u001b[0;36mgen_input_seq\u001b[1;34m(self)\u001b[0m\n\u001b[0;32m     36\u001b[0m \u001b[1;33m\u001b[0m\u001b[0m\n\u001b[0;32m     37\u001b[0m     \u001b[1;32mdef\u001b[0m \u001b[0mgen_input_seq\u001b[0m\u001b[1;33m(\u001b[0m\u001b[0mself\u001b[0m\u001b[1;33m)\u001b[0m\u001b[1;33m:\u001b[0m\u001b[1;33m\u001b[0m\u001b[1;33m\u001b[0m\u001b[0m\n\u001b[1;32m---> 38\u001b[1;33m         \u001b[0mdf\u001b[0m \u001b[1;33m=\u001b[0m \u001b[0mpd\u001b[0m\u001b[1;33m.\u001b[0m\u001b[0mDataFrame\u001b[0m\u001b[1;33m.\u001b[0m\u001b[0mfrom_dict\u001b[0m\u001b[1;33m(\u001b[0m\u001b[0mself\u001b[0m\u001b[1;33m.\u001b[0m\u001b[0mmeasurement\u001b[0m\u001b[1;33m)\u001b[0m\u001b[1;33m\u001b[0m\u001b[1;33m\u001b[0m\u001b[0m\n\u001b[0m\u001b[0;32m     39\u001b[0m         \u001b[1;31m# normalize\u001b[0m\u001b[1;33m\u001b[0m\u001b[1;33m\u001b[0m\u001b[1;33m\u001b[0m\u001b[0m\n\u001b[0;32m     40\u001b[0m         \u001b[0mdf\u001b[0m \u001b[1;33m=\u001b[0m \u001b[1;33m(\u001b[0m\u001b[0mdf\u001b[0m \u001b[1;33m-\u001b[0m \u001b[0mself\u001b[0m\u001b[1;33m.\u001b[0m\u001b[0mmean\u001b[0m\u001b[1;33m[\u001b[0m\u001b[0mself\u001b[0m\u001b[1;33m.\u001b[0m\u001b[0mlabel_size\u001b[0m\u001b[1;33m:\u001b[0m\u001b[1;33m]\u001b[0m\u001b[1;33m)\u001b[0m \u001b[1;33m/\u001b[0m \u001b[0mself\u001b[0m\u001b[1;33m.\u001b[0m\u001b[0mstd\u001b[0m\u001b[1;33m[\u001b[0m\u001b[0mself\u001b[0m\u001b[1;33m.\u001b[0m\u001b[0mlabel_size\u001b[0m\u001b[1;33m:\u001b[0m\u001b[1;33m]\u001b[0m\u001b[1;33m\u001b[0m\u001b[1;33m\u001b[0m\u001b[0m\n",
      "\u001b[1;32mc:\\users\\zhong\\appdata\\local\\programs\\python\\python39\\lib\\site-packages\\pandas\\core\\frame.py\u001b[0m in \u001b[0;36mfrom_dict\u001b[1;34m(cls, data, orient, dtype, columns)\u001b[0m\n\u001b[0;32m   1371\u001b[0m             \u001b[1;32mraise\u001b[0m \u001b[0mValueError\u001b[0m\u001b[1;33m(\u001b[0m\u001b[1;34m\"only recognize index or columns for orient\"\u001b[0m\u001b[1;33m)\u001b[0m\u001b[1;33m\u001b[0m\u001b[1;33m\u001b[0m\u001b[0m\n\u001b[0;32m   1372\u001b[0m \u001b[1;33m\u001b[0m\u001b[0m\n\u001b[1;32m-> 1373\u001b[1;33m         \u001b[1;32mreturn\u001b[0m \u001b[0mcls\u001b[0m\u001b[1;33m(\u001b[0m\u001b[0mdata\u001b[0m\u001b[1;33m,\u001b[0m \u001b[0mindex\u001b[0m\u001b[1;33m=\u001b[0m\u001b[0mindex\u001b[0m\u001b[1;33m,\u001b[0m \u001b[0mcolumns\u001b[0m\u001b[1;33m=\u001b[0m\u001b[0mcolumns\u001b[0m\u001b[1;33m,\u001b[0m \u001b[0mdtype\u001b[0m\u001b[1;33m=\u001b[0m\u001b[0mdtype\u001b[0m\u001b[1;33m)\u001b[0m\u001b[1;33m\u001b[0m\u001b[1;33m\u001b[0m\u001b[0m\n\u001b[0m\u001b[0;32m   1374\u001b[0m \u001b[1;33m\u001b[0m\u001b[0m\n\u001b[0;32m   1375\u001b[0m     def to_numpy(\n",
      "\u001b[1;32mc:\\users\\zhong\\appdata\\local\\programs\\python\\python39\\lib\\site-packages\\pandas\\core\\frame.py\u001b[0m in \u001b[0;36m__init__\u001b[1;34m(self, data, index, columns, dtype, copy)\u001b[0m\n\u001b[0;32m    527\u001b[0m \u001b[1;33m\u001b[0m\u001b[0m\n\u001b[0;32m    528\u001b[0m         \u001b[1;32melif\u001b[0m \u001b[0misinstance\u001b[0m\u001b[1;33m(\u001b[0m\u001b[0mdata\u001b[0m\u001b[1;33m,\u001b[0m \u001b[0mdict\u001b[0m\u001b[1;33m)\u001b[0m\u001b[1;33m:\u001b[0m\u001b[1;33m\u001b[0m\u001b[1;33m\u001b[0m\u001b[0m\n\u001b[1;32m--> 529\u001b[1;33m             \u001b[0mmgr\u001b[0m \u001b[1;33m=\u001b[0m \u001b[0minit_dict\u001b[0m\u001b[1;33m(\u001b[0m\u001b[0mdata\u001b[0m\u001b[1;33m,\u001b[0m \u001b[0mindex\u001b[0m\u001b[1;33m,\u001b[0m \u001b[0mcolumns\u001b[0m\u001b[1;33m,\u001b[0m \u001b[0mdtype\u001b[0m\u001b[1;33m=\u001b[0m\u001b[0mdtype\u001b[0m\u001b[1;33m)\u001b[0m\u001b[1;33m\u001b[0m\u001b[1;33m\u001b[0m\u001b[0m\n\u001b[0m\u001b[0;32m    530\u001b[0m         \u001b[1;32melif\u001b[0m \u001b[0misinstance\u001b[0m\u001b[1;33m(\u001b[0m\u001b[0mdata\u001b[0m\u001b[1;33m,\u001b[0m \u001b[0mma\u001b[0m\u001b[1;33m.\u001b[0m\u001b[0mMaskedArray\u001b[0m\u001b[1;33m)\u001b[0m\u001b[1;33m:\u001b[0m\u001b[1;33m\u001b[0m\u001b[1;33m\u001b[0m\u001b[0m\n\u001b[0;32m    531\u001b[0m             \u001b[1;32mimport\u001b[0m \u001b[0mnumpy\u001b[0m\u001b[1;33m.\u001b[0m\u001b[0mma\u001b[0m\u001b[1;33m.\u001b[0m\u001b[0mmrecords\u001b[0m \u001b[1;32mas\u001b[0m \u001b[0mmrecords\u001b[0m\u001b[1;33m\u001b[0m\u001b[1;33m\u001b[0m\u001b[0m\n",
      "\u001b[1;32mc:\\users\\zhong\\appdata\\local\\programs\\python\\python39\\lib\\site-packages\\pandas\\core\\internals\\construction.py\u001b[0m in \u001b[0;36minit_dict\u001b[1;34m(data, index, columns, dtype)\u001b[0m\n\u001b[0;32m    285\u001b[0m             \u001b[0marr\u001b[0m \u001b[1;32mif\u001b[0m \u001b[1;32mnot\u001b[0m \u001b[0mis_datetime64tz_dtype\u001b[0m\u001b[1;33m(\u001b[0m\u001b[0marr\u001b[0m\u001b[1;33m)\u001b[0m \u001b[1;32melse\u001b[0m \u001b[0marr\u001b[0m\u001b[1;33m.\u001b[0m\u001b[0mcopy\u001b[0m\u001b[1;33m(\u001b[0m\u001b[1;33m)\u001b[0m \u001b[1;32mfor\u001b[0m \u001b[0marr\u001b[0m \u001b[1;32min\u001b[0m \u001b[0marrays\u001b[0m\u001b[1;33m\u001b[0m\u001b[1;33m\u001b[0m\u001b[0m\n\u001b[0;32m    286\u001b[0m         ]\n\u001b[1;32m--> 287\u001b[1;33m     \u001b[1;32mreturn\u001b[0m \u001b[0marrays_to_mgr\u001b[0m\u001b[1;33m(\u001b[0m\u001b[0marrays\u001b[0m\u001b[1;33m,\u001b[0m \u001b[0mdata_names\u001b[0m\u001b[1;33m,\u001b[0m \u001b[0mindex\u001b[0m\u001b[1;33m,\u001b[0m \u001b[0mcolumns\u001b[0m\u001b[1;33m,\u001b[0m \u001b[0mdtype\u001b[0m\u001b[1;33m=\u001b[0m\u001b[0mdtype\u001b[0m\u001b[1;33m)\u001b[0m\u001b[1;33m\u001b[0m\u001b[1;33m\u001b[0m\u001b[0m\n\u001b[0m\u001b[0;32m    288\u001b[0m \u001b[1;33m\u001b[0m\u001b[0m\n\u001b[0;32m    289\u001b[0m \u001b[1;33m\u001b[0m\u001b[0m\n",
      "\u001b[1;32mc:\\users\\zhong\\appdata\\local\\programs\\python\\python39\\lib\\site-packages\\pandas\\core\\internals\\construction.py\u001b[0m in \u001b[0;36marrays_to_mgr\u001b[1;34m(arrays, arr_names, index, columns, dtype, verify_integrity)\u001b[0m\n\u001b[0;32m     78\u001b[0m         \u001b[1;31m# figure out the index, if necessary\u001b[0m\u001b[1;33m\u001b[0m\u001b[1;33m\u001b[0m\u001b[1;33m\u001b[0m\u001b[0m\n\u001b[0;32m     79\u001b[0m         \u001b[1;32mif\u001b[0m \u001b[0mindex\u001b[0m \u001b[1;32mis\u001b[0m \u001b[1;32mNone\u001b[0m\u001b[1;33m:\u001b[0m\u001b[1;33m\u001b[0m\u001b[1;33m\u001b[0m\u001b[0m\n\u001b[1;32m---> 80\u001b[1;33m             \u001b[0mindex\u001b[0m \u001b[1;33m=\u001b[0m \u001b[0mextract_index\u001b[0m\u001b[1;33m(\u001b[0m\u001b[0marrays\u001b[0m\u001b[1;33m)\u001b[0m\u001b[1;33m\u001b[0m\u001b[1;33m\u001b[0m\u001b[0m\n\u001b[0m\u001b[0;32m     81\u001b[0m         \u001b[1;32melse\u001b[0m\u001b[1;33m:\u001b[0m\u001b[1;33m\u001b[0m\u001b[1;33m\u001b[0m\u001b[0m\n\u001b[0;32m     82\u001b[0m             \u001b[0mindex\u001b[0m \u001b[1;33m=\u001b[0m \u001b[0mensure_index\u001b[0m\u001b[1;33m(\u001b[0m\u001b[0mindex\u001b[0m\u001b[1;33m)\u001b[0m\u001b[1;33m\u001b[0m\u001b[1;33m\u001b[0m\u001b[0m\n",
      "\u001b[1;32mc:\\users\\zhong\\appdata\\local\\programs\\python\\python39\\lib\\site-packages\\pandas\\core\\internals\\construction.py\u001b[0m in \u001b[0;36mextract_index\u001b[1;34m(data)\u001b[0m\n\u001b[0;32m    399\u001b[0m             \u001b[0mlengths\u001b[0m \u001b[1;33m=\u001b[0m \u001b[0mlist\u001b[0m\u001b[1;33m(\u001b[0m\u001b[0mset\u001b[0m\u001b[1;33m(\u001b[0m\u001b[0mraw_lengths\u001b[0m\u001b[1;33m)\u001b[0m\u001b[1;33m)\u001b[0m\u001b[1;33m\u001b[0m\u001b[1;33m\u001b[0m\u001b[0m\n\u001b[0;32m    400\u001b[0m             \u001b[1;32mif\u001b[0m \u001b[0mlen\u001b[0m\u001b[1;33m(\u001b[0m\u001b[0mlengths\u001b[0m\u001b[1;33m)\u001b[0m \u001b[1;33m>\u001b[0m \u001b[1;36m1\u001b[0m\u001b[1;33m:\u001b[0m\u001b[1;33m\u001b[0m\u001b[1;33m\u001b[0m\u001b[0m\n\u001b[1;32m--> 401\u001b[1;33m                 \u001b[1;32mraise\u001b[0m \u001b[0mValueError\u001b[0m\u001b[1;33m(\u001b[0m\u001b[1;34m\"arrays must all be same length\"\u001b[0m\u001b[1;33m)\u001b[0m\u001b[1;33m\u001b[0m\u001b[1;33m\u001b[0m\u001b[0m\n\u001b[0m\u001b[0;32m    402\u001b[0m \u001b[1;33m\u001b[0m\u001b[0m\n\u001b[0;32m    403\u001b[0m             \u001b[1;32mif\u001b[0m \u001b[0mhave_dicts\u001b[0m\u001b[1;33m:\u001b[0m\u001b[1;33m\u001b[0m\u001b[1;33m\u001b[0m\u001b[0m\n",
      "\u001b[1;31mValueError\u001b[0m: arrays must all be same length"
     ]
    }
   ],
   "source": [
    "result = predictor.predict()[0]\n",
    "label = world.get_label()"
   ]
  },
  {
   "cell_type": "code",
   "execution_count": null,
   "id": "125d6cde-ff65-4590-85b3-7d6b6d760c67",
   "metadata": {},
   "outputs": [],
   "source": [
    "plt.figure(figsize=(20,10))\n",
    "pred_len = len(result)\n",
    "plt.scatter(result[:, 0].numpy(), result[:, 1].numpy(), s=10, marker='x', alpha=0.5)\n",
    "plt.scatter(label[-pred_len:, 0], label[-pred_len:, 1], s=10, marker='o', alpha=0.5)\n",
    "plt.scatter(result[-1, 0].numpy(), result[-1, 1].numpy(), s=50, marker='x', color='r', alpha=1)\n",
    "plt.scatter(label[-1, 0], label[-1, 1], s=50, marker='o', color='g', alpha=1)\n",
    "plt.xlabel('X Coordinate (cm)')\n",
    "plt.ylabel('Y Coordinate (cm)')\n",
    "plt.show()"
   ]
  },
  {
   "cell_type": "code",
   "execution_count": null,
   "id": "8a54b63b-9cee-4354-964e-2549c1a5331d",
   "metadata": {},
   "outputs": [],
   "source": []
  }
 ],
 "metadata": {
  "kernelspec": {
   "display_name": "Python 3 (ipykernel)",
   "language": "python",
   "name": "python3"
  },
  "language_info": {
   "codemirror_mode": {
    "name": "ipython",
    "version": 3
   },
   "file_extension": ".py",
   "mimetype": "text/x-python",
   "name": "python",
   "nbconvert_exporter": "python",
   "pygments_lexer": "ipython3",
   "version": "3.9.5"
  }
 },
 "nbformat": 4,
 "nbformat_minor": 5
}
