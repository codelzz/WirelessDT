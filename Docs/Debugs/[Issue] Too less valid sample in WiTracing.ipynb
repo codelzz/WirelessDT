{
 "cells": [
  {
   "cell_type": "markdown",
   "id": "d2b8df69-20bb-413e-aa11-4eee048ec3f8",
   "metadata": {},
   "source": [
    "# Too less valid sample in WiTracing for indirect transmission"
   ]
  },
  {
   "cell_type": "markdown",
   "id": "89a50be5-5270-48f1-869f-4d05fea94eb6",
   "metadata": {},
   "source": [
    "### Observation"
   ]
  },
  {
   "cell_type": "markdown",
   "id": "57ccdbc8-23db-4ca5-9748-7fb0f4ce287d",
   "metadata": {},
   "source": [
    "1. We attempt to increase the sample per pixel (SPP) to fix this, it does not help. The direct transmission sample increase by the rate of increasing the SPP. However, the sample on indirect transmission does not increase."
   ]
  },
  {
   "cell_type": "markdown",
   "id": "cc12b6e3-b37f-4e94-8f59-116012d625bf",
   "metadata": {},
   "source": [
    "### Root Cause 1: Sensor resolution too low\n",
    "\n",
    "We can increase the resolution, however, the brightness point in preview still noise for indirect transmission."
   ]
  },
  {
   "cell_type": "code",
   "execution_count": null,
   "id": "d484c7c5-d86f-4686-9b13-dc5701f04b9f",
   "metadata": {},
   "outputs": [],
   "source": []
  }
 ],
 "metadata": {
  "kernelspec": {
   "display_name": "Python 3",
   "language": "python",
   "name": "python3"
  },
  "language_info": {
   "codemirror_mode": {
    "name": "ipython",
    "version": 3
   },
   "file_extension": ".py",
   "mimetype": "text/x-python",
   "name": "python",
   "nbconvert_exporter": "python",
   "pygments_lexer": "ipython3",
   "version": "3.9.5"
  }
 },
 "nbformat": 4,
 "nbformat_minor": 5
}
