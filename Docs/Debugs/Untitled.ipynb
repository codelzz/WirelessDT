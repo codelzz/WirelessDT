{
 "cells": [
  {
   "cell_type": "markdown",
   "id": "c16bb236-39d7-4232-abca-a8949e96b958",
   "metadata": {},
   "source": [
    "# Debug: RSSI has very high probability to be detected in low dBm range (-85~-99 dbm)"
   ]
  },
  {
   "cell_type": "markdown",
   "id": "ceb1de72-06e7-41b6-ba9c-111cb34f593e",
   "metadata": {},
   "source": [
    "<img src=\"./imgs/many_weak_signal_strength_samples_is_detected.PNG\" alt=\"alt_text\" width=\"500\" align=\"center\"/>"
   ]
  },
  {
   "cell_type": "markdown",
   "id": "5e4fa8a8-39fc-46b8-a8d9-f6355d02c396",
   "metadata": {},
   "source": [
    "### Root Causes"
   ]
  },
  {
   "cell_type": "markdown",
   "id": "58701fbf-f0e8-4828-81a7-556eb62bc3e3",
   "metadata": {},
   "source": [
    "### Finding\n",
    "\n",
    "When calculate the TraceTransmitter() shader method, it doesn't divide 4\\*PI for the radiance calculation. As we change the GetPower() method to return the tx power at transmitter. the radiance is calculated by\n",
    "\n",
    "$$\\text{Radiance} = \\frac{\\text{TX_POWER}_\\text{dBm}}{4\\pi d^2} $$\n",
    "\n",
    "Hence it doesn't depend on the radius and size of the TX itself"
   ]
  },
  {
   "cell_type": "code",
   "execution_count": null,
   "id": "9d8d532f-301e-44a9-be37-e586fefb1951",
   "metadata": {},
   "outputs": [],
   "source": []
  },
  {
   "cell_type": "code",
   "execution_count": null,
   "id": "ace479a1-a366-4c70-8b5e-0db9e709ee67",
   "metadata": {},
   "outputs": [],
   "source": []
  }
 ],
 "metadata": {
  "kernelspec": {
   "display_name": "Python 3",
   "language": "python",
   "name": "python3"
  },
  "language_info": {
   "codemirror_mode": {
    "name": "ipython",
    "version": 3
   },
   "file_extension": ".py",
   "mimetype": "text/x-python",
   "name": "python",
   "nbconvert_exporter": "python",
   "pygments_lexer": "ipython3",
   "version": "3.9.5"
  }
 },
 "nbformat": 4,
 "nbformat_minor": 5
}
