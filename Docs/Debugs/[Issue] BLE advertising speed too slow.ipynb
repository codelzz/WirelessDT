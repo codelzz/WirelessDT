{
 "cells": [
  {
   "cell_type": "markdown",
   "id": "54998eab-4eb5-4503-a2a9-3ad9323670b4",
   "metadata": {},
   "source": [
    "### BLE Improve Advertising Speed"
   ]
  },
  {
   "cell_type": "markdown",
   "id": "16e3daf4-cdf0-43e0-8d00-f23122c58264",
   "metadata": {},
   "source": [
    "#### Hardware\n",
    "\n",
    "* Board: [Arduino 33 BLE Sense](https://store-usa.arduino.cc/products/arduino-nano-33-ble-sense)\n",
    "* Microcontroller: [nRF52840](https://content.arduino.cc/assets/Nano_BLE_MCU-nRF52840_PS_v1.1.pdf?_gl=1*rtb8zu*_ga*NzAxODY0NzMwLjE2NTcxMDA5NTE.*_ga_NEXN8H46L5*MTY1NzU4NjcxNC4xNC4xLjE2NTc1ODY5MjAuNjA.)"
   ]
  },
  {
   "cell_type": "markdown",
   "id": "907b1551-2876-4a8a-8b36-d46e56003334",
   "metadata": {},
   "source": [
    "### Clue 1: Speed up scanning of advertising time\n",
    "REF: https://devzone.nordicsemi.com/f/nordic-q-a/73710/speed-up-scanning-of-advertising-time?ReplySortBy=CreatedDate&ReplySortOrder=Ascending\n",
    "\n",
    ">  In BLE, the time between advertisement packets is the advertising interval + a random delay of 0-10 ms\n",
    ">\n",
    ">  To edit the scan interval it should be sufficient to use the SCAN_WINDOW and SCAN_INTERVAL variables. The central will scan for SCAN_WINDOW time, every SCAN_INTERVAL interval. These parameters are generally given in units of 0.625ms. So if you set SCAN_INTERVAL = SCAN_WINDOW, you should scan 100% of the time."
   ]
  },
  {
   "cell_type": "markdown",
   "id": "fd386465-be79-4480-80f7-2995cb652b1f",
   "metadata": {},
   "source": [
    "#### Clue 2: nRF5 SDK"
   ]
  },
  {
   "cell_type": "markdown",
   "id": "f8a518c6-0509-4480-a8f7-e4d731a25163",
   "metadata": {},
   "source": [
    "https://devzone.nordicsemi.com/f/nordic-q-a/21739/is-it-possible-to-use-nordic-sdk-with-arduino"
   ]
  },
  {
   "cell_type": "markdown",
   "id": "416803b8-e0e6-422f-b550-6f0666e5009b",
   "metadata": {},
   "source": [
    "#### Clue 3: nRF52840 Development with Arduino and CircuitPython"
   ]
  },
  {
   "cell_type": "markdown",
   "id": "6fce23cf-bd16-472c-9231-afe4297f3da4",
   "metadata": {},
   "source": [
    "https://learn.sparkfun.com/tutorials/nrf52840-development-with-arduino-and-circuitpython/all"
   ]
  },
  {
   "cell_type": "markdown",
   "id": "522d62b7-113b-4fbb-8d80-73d038071c7f",
   "metadata": {},
   "source": [
    "#### Clue 4: Nordic nRF52840 Advanced Bluetooth 5 with Arduino IDE – Getting Started\n",
    "https://how2electronics.com/nordic-nrf52840-advanced-bluetooth-5-arduino-ide/   "
   ]
  },
  {
   "cell_type": "markdown",
   "id": "a49d5b43-d519-4698-8512-edbcacb2b836",
   "metadata": {},
   "source": [
    "#### Clue 5: How to update advertising data dynamically using BLE Advertising library\n",
    "https://devzone.nordicsemi.com/guides/short-range-guides/b/bluetooth-low-energy/posts/how-to-update-advertising-data-dynamically-using-ble-advertising-library"
   ]
  },
  {
   "cell_type": "markdown",
   "id": "65b57e50-9590-4cd5-a604-47d928084bd8",
   "metadata": {},
   "source": [
    "#### Clue 6: Bluefruit nRF52 Feather Learning Guide  Arduino Support Setup\n",
    "https://learn.adafruit.com/bluefruit-nrf52-feather-learning-guide/arduino-bsp-setup"
   ]
  },
  {
   "cell_type": "markdown",
   "id": "c006f9ac-f355-423f-a26d-bf0754b0199c",
   "metadata": {},
   "source": [
    "#### Clue 7: nRF52840使用官方SDK开发入门教程\n",
    "\n",
    "https://zhuanlan.zhihu.com/p/129663843\n",
    "\n",
    "修改 nRF52840 芯片 SDK (最可行)"
   ]
  },
  {
   "cell_type": "code",
   "execution_count": null,
   "id": "4e14cbce-d1af-4167-a45d-ed7badf080c8",
   "metadata": {},
   "outputs": [],
   "source": []
  }
 ],
 "metadata": {
  "kernelspec": {
   "display_name": "Python 3",
   "language": "python",
   "name": "python3"
  },
  "language_info": {
   "codemirror_mode": {
    "name": "ipython",
    "version": 3
   },
   "file_extension": ".py",
   "mimetype": "text/x-python",
   "name": "python",
   "nbconvert_exporter": "python",
   "pygments_lexer": "ipython3",
   "version": "3.9.5"
  }
 },
 "nbformat": 4,
 "nbformat_minor": 5
}
