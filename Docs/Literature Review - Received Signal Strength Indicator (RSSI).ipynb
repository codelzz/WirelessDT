{
 "cells": [
  {
   "cell_type": "markdown",
   "id": "b872047a-199a-4329-a3b2-3ebffac2b4bf",
   "metadata": {},
   "source": [
    "# Literature Review: Received Signal Strength Indicator"
   ]
  },
  {
   "cell_type": "markdown",
   "id": "c1792af1-2f4a-4b84-9d5e-1208c141162c",
   "metadata": {},
   "source": [
    "REFERENCES:  \n",
    "[1] The Bluetooth Low Energy Primer https://www.bluetooth.com/wp-content/uploads/2022/05/Bluetooth_LE_Primer_Paper.pdf  \n",
    "[2] The Bluetooth Core Specification v5.3 https://www.bluetooth.com/specifications/specs/core-specification-5-3/  \n",
    "[3] An Introduction to Bluetooth Beacons https://www.bluetooth.com/bluetooth-resources/beacon-smart-starter-kit/  \n",
    "[4] nRF52840 Product Specification v1.7 https://infocenter.nordicsemi.com/pdf/nRF52840_PS_v1.7.pdf  \n",
    "[5] Farahani, Shahin. ZigBee wireless networks and transceivers. newnes, 2011.  \n",
    "[6] Received signal strength indicator (RSSI) for ST25RU3993 https://www.st.com/resource/en/application_note/an4971-received-signal-strength-indicator-rssi-for-st25ru3993-stmicroelectronics.pdf  \n",
    "[7] Srinivasan, Kannan, and Philip Levis. \"RSSI is under appreciated.\" Proceedings of the third workshop on embedded networked sensors (EmNets). Vol. 2006. 2006.  \n",
    "[8] Zhao, Jerry, and Ramesh Govindan. \"Understanding packet delivery performance in dense wireless sensor networks.\" Proceedings of the 1st international conference on Embedded networked sensor systems. 2003.  \n",
    "[9] “802.15.4-2020 - IEEE Standard for Low-Rate Wireless Networks.” (2020). IEEE.  \n",
    "[10] cc2420 2.4 GHz IEEE 802.15.4 / ZigBee-Ready RF Transceiver datasheet https://www.ti.com/lit/ds/symlink/cc2420.pdf  "
   ]
  },
  {
   "cell_type": "markdown",
   "id": "181ec399-faae-4f44-a36b-5d08ae252245",
   "metadata": {},
   "source": [
    "#### 802.15.4-2020 - IEEE Standard for Low-Rate Wireless Networks\n",
    "\n",
    "> ##### 6.16.2.8 Received Signal Strength Indicator\n",
    ">\n",
    "> Received Signal Strength Indicator is intended for use by the next higher layer or a common network manager existing in multiple wireless network environment, in order to assess the utilization of spectrum resource together with RCPI and RSNI. \n",
    ">\n",
    "> RSSI is a measure of the RF power in dBm for the received packet. The RF power level at the input of the transceiver **measured during the PHR and is valid after the start-of-frame delimiter (SFD) is detected**. \n",
    "> \n",
    "> RSSI is represented as one octet of integer as shown in Table 8-108; therefore, **the minimum and maximum values are 0 (–174 dBm) and 254 (80 dBm)**, respectively. 255 is reserved. If any **measured value is less than –174 dBm then the reported value shall be rounded up to –174 dBm**.\n",
    ">\n",
    "> ##### 7.5.21 DSME Link Report command\n",
    "> \n",
    "> The Average RSSI field contains the average received signal power by ED measurement during a period of macLinkStatisticPeriod symbols. The **Average RSSI measurement shall be performed for each received packet**, and the use of the Average RSSI result by the next higher layer is not specified in this standard."
   ]
  },
  {
   "cell_type": "markdown",
   "id": "db369bcc-cad8-42a9-bffc-314d8baca3cb",
   "metadata": {},
   "source": [
    "#### cc2420 2.4 GHz IEEE 802.15.4 / ZigBee-Ready RF Transceiver datasheet - RSSI / Energy Detection\n",
    "\n",
    "RSSI value is always **averaged over 8 symbol periods**.\n",
    "\n",
    "> ##### 23 RSSI/Energy Detection\n",
    ">\n",
    "> CC2420 has a built-in RSSI (Received Signal Strength Indicator) providing a digital value that can be read from the 8 bit, signed 2’s complement RSSI.RSSI_VAL register. \n",
    ">\n",
    "> The **RSSI value is always averaged over 8 symbol periods (128 μs)**, in accordance with [1]. The RSSI_VALID status bit (Table 5) indicates when the RSSI value is valid, meaning that the receiver has been enabled for at least 8 symbol periods. \n",
    "> \n",
    "> The RSSI register value RSSI.RSSI_VAL can be referred to the power P at the RF pins by using the following equations:\n",
    "> $$ P = \\text{RSSI}_\\text{VAL} + \\text{RSSI}_\\text{OFFSET} [dBm] $$\n",
    "> where the RSSI_OFFSET is found empirically during system development from the front end gain. RSSI_OFFSET is approximately –45. E.g. if reading a value of –20 from the RSSI register, the RF input power is approximately –65 dBm. \n",
    "> \n",
    "> A typical plot of the RSSI_VAL reading as function of input power is shown in Figure 27. It can be seen from the figure that the RSSI reading from CC2420 is very linear and has a dynamic range of about 100 dB. \n",
    "> \n",
    "> The RSSI register value RSSI.RSSI_VAL is calculated and continuously updated for beach symbol after RSSI has become valid."
   ]
  },
  {
   "cell_type": "markdown",
   "id": "13c32a30-600d-48fc-9499-b161079d150b",
   "metadata": {},
   "source": [
    "#### nRF52840 Product Specification - Received signal strength indicator [4]\n",
    "\n",
    "The RSSI is a feature for **measuring the power in the received signal**. It this **measured contiunously** and the value filtered uing a **single-pole IIR filter** (单极无限脉冲响应滤波). RSSI samples can be read from the **sample register**. The RSSI sample **only hold the filtered received signal strenght**.\n",
    "\n",
    "> #### nRF52840 Product Specification v1.7\n",
    ">\n",
    "> * The RADIO implements a **mechanism for measuring the power in the received signal**. This feature is called\n",
    "received signal strength indicator (RSSI)\n",
    "> * The RSSI is **measured continuously and the value filtered using a single-pole IIR filter**. After a signal level\n",
    "change, the RSSI will settle after approximately RSSISETTLE.\n",
    "> * Sampling of the received signal strength is started by using the RSSISTART task. The **sample can be read\n",
    "from the RSSISAMPLE register**\n",
    "> * The sample period of the RSSI is defined by $\\text{RSSI}_\\text{PERIOD}$. The RSSISAMPLE will hold the filtered received\n",
    "signal strength after this sample period.\n",
    "> * For the RSSI sample to be valid, the RADIO has to be enabled in receive mode (RXEN task) and the\n",
    "reception has to be started (READY event followed by START task)"
   ]
  },
  {
   "cell_type": "markdown",
   "id": "d37c781c-811b-4a1e-9fdf-20f702c24e8c",
   "metadata": {},
   "source": [
    "#### Wireless networks and transceivers - 7.2 Received Signal Strength-Based Locationing Algorithms [5]\n",
    "\n",
    "RSSI is **measured over a period of time and then average** as filtered result.\n",
    "\n",
    "> There are four parameters associated with RSSI: dynamic range, accuracy, linearity and averaging period.\n",
    ">\n",
    "> * The **dynamic range** is specicied in dB and indicates the minimum and maximum received signal energy that the receiver is capble of measuring (e.g. 92 dB)\n",
    "> * The **accuracy** indicates the average error associated with each received signal strength measurement (e.g. $\\pm 4$dB)\n",
    "> * The **linearity** indicate the maximum deviation of the plot pf RSSI from a straight line versus the actual received signal power (in logarithmic scale)\n",
    "> * The **received signal strength** is **measured over a period of time and then averaged to generate RSSI**. The averaging time is eight symbol periods, which is required by IEEE 802.15.4 if the RSSI is oging to be used to generated link quality indicator(LQI).\n",
    "\n"
   ]
  },
  {
   "cell_type": "markdown",
   "id": "ff50a3b6-44e4-4ec0-8a8f-b5961db95bd6",
   "metadata": {},
   "source": [
    "#### Received signal strength indicator (RSSI) for ST25RU3993 [5]\n",
    "\n",
    "ST25RU3993 is a RFID reader chip. It calculate the RSSI value by average the in-phase and a quadrature received signal.\n",
    "\n",
    "> The recieved tag signal is split in to an in-phase (I)(同相) and a quadrature (Q)(正交) version (I, Q).\n",
    "> The equations to calculate the approximated received external RF signal input power are:\n",
    "> $$\\text{RSSI}_\\text{mean} = \\frac{\\text{RSSI}_I + \\text{RSSI}_Q}{2}$$\n",
    "> $$ P_\\text{input} = 2.1 * \\text{RSSI}_\\text{mean} - G$$\n",
    "> where:\n",
    "> * $\\text{RSSI}_\\text{mean}$ is the arithmetic mean value of two $\\text{RSSI}_I,\\text{RSSI}_Q$ values **read-out from the RSSI dsiaply register**.\n",
    "> * $P_\\text{input}$ is the input power at the reader IC pin, expressed in dBm\n",
    "> * $G$ is a constant, depending on the settings of the RX filter settings register and of the RX mixer and gain register."
   ]
  },
  {
   "cell_type": "code",
   "execution_count": null,
   "id": "4384455b-9709-47cf-8642-7ce66af70ad6",
   "metadata": {},
   "outputs": [],
   "source": []
  }
 ],
 "metadata": {
  "kernelspec": {
   "display_name": "Python 3",
   "language": "python",
   "name": "python3"
  },
  "language_info": {
   "codemirror_mode": {
    "name": "ipython",
    "version": 3
   },
   "file_extension": ".py",
   "mimetype": "text/x-python",
   "name": "python",
   "nbconvert_exporter": "python",
   "pygments_lexer": "ipython3",
   "version": "3.9.5"
  }
 },
 "nbformat": 4,
 "nbformat_minor": 5
}
