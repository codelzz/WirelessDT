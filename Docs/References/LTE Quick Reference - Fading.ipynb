{
 "cells": [
  {
   "cell_type": "markdown",
   "id": "493d1c08-0d46-4099-b36c-26518ba61f48",
   "metadata": {},
   "source": [
    "## LTE Quick Reference - Fading\n",
    "\n",
    "source: https://www.sharetechnote.com/html/Handbook_LTE.html"
   ]
  },
  {
   "cell_type": "code",
   "execution_count": null,
   "id": "b12df7fe-e754-4efd-994e-40af99463e56",
   "metadata": {},
   "outputs": [],
   "source": [
    "### "
   ]
  }
 ],
 "metadata": {
  "kernelspec": {
   "display_name": "Python 3",
   "language": "python",
   "name": "python3"
  },
  "language_info": {
   "codemirror_mode": {
    "name": "ipython",
    "version": 3
   },
   "file_extension": ".py",
   "mimetype": "text/x-python",
   "name": "python",
   "nbconvert_exporter": "python",
   "pygments_lexer": "ipython3",
   "version": "3.9.5"
  }
 },
 "nbformat": 4,
 "nbformat_minor": 5
}
