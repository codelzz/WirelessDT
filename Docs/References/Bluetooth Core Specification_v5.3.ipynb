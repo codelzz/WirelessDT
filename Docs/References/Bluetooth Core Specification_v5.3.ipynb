{
 "cells": [
  {
   "cell_type": "markdown",
   "id": "fa02655e-71d1-458b-aefe-7b6097ab0740",
   "metadata": {},
   "source": [
    "## Bluetooth Core Specification v5.3"
   ]
  },
  {
   "cell_type": "markdown",
   "id": "1b3ea79a-45ea-4ba9-bcbf-b1fcc76bcd69",
   "metadata": {},
   "source": [
    "#### Abbr.\n",
    "\n",
    "Generic Access Profile(GAP)  \n",
    "Generic Attribute Profile(GATT)  \n",
    "Service Discovery Protocoal(SDP)  "
   ]
  },
  {
   "cell_type": "markdown",
   "id": "78c7d317-c7c7-425a-8ee2-674015e556be",
   "metadata": {},
   "source": [
    "#### Advertising"
   ]
  },
  {
   "cell_type": "code",
   "execution_count": null,
   "id": "fe2f2e74-21db-4885-82f5-f6100c37fcd2",
   "metadata": {},
   "outputs": [],
   "source": []
  }
 ],
 "metadata": {
  "kernelspec": {
   "display_name": "Python 3",
   "language": "python",
   "name": "python3"
  },
  "language_info": {
   "codemirror_mode": {
    "name": "ipython",
    "version": 3
   },
   "file_extension": ".py",
   "mimetype": "text/x-python",
   "name": "python",
   "nbconvert_exporter": "python",
   "pygments_lexer": "ipython3",
   "version": "3.9.5"
  }
 },
 "nbformat": 4,
 "nbformat_minor": 5
}
